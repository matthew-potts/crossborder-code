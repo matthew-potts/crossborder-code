{
 "cells": [
  {
   "cell_type": "markdown",
   "id": "3db80dc6",
   "metadata": {},
   "source": [
    "## Analysing the depreciation of the Dollar - Global Safe Asset?"
   ]
  },
  {
   "cell_type": "code",
   "execution_count": 39,
   "id": "fb001b03",
   "metadata": {},
   "outputs": [
    {
     "name": "stdout",
     "output_type": "stream",
     "text": [
      "Getting URL: https://stats.bis.org/api/v2/data/dataflow/BIS/WS_NA_SEC_DSS/~/Q.N.US.5Z.S1.S1.N.L.F.F3.T._Z.USD._T.M.V.N._T\n",
      "Returned 293 rows for United States - Debt sec, held by non-residents, issued by residents, in all markets at all original maturities denominated in all currencies at market value net trans\n"
     ]
    },
    {
     "data": {
      "application/vnd.plotly.v1+json": {
       "config": {
        "plotlyServerURL": "https://plot.ly"
       },
       "data": [
        {
         "mode": "lines+markers",
         "name": "test",
         "type": "scatter",
         "x": [
          "2000-01-01T00:00:00.000000000",
          "2000-04-01T00:00:00.000000000",
          "2000-07-01T00:00:00.000000000",
          "2000-10-01T00:00:00.000000000",
          "2001-01-01T00:00:00.000000000",
          "2001-04-01T00:00:00.000000000",
          "2001-07-01T00:00:00.000000000",
          "2001-10-01T00:00:00.000000000",
          "2002-01-01T00:00:00.000000000",
          "2002-04-01T00:00:00.000000000",
          "2002-07-01T00:00:00.000000000",
          "2002-10-01T00:00:00.000000000",
          "2003-01-01T00:00:00.000000000",
          "2003-04-01T00:00:00.000000000",
          "2003-07-01T00:00:00.000000000",
          "2003-10-01T00:00:00.000000000",
          "2004-01-01T00:00:00.000000000",
          "2004-04-01T00:00:00.000000000",
          "2004-07-01T00:00:00.000000000",
          "2004-10-01T00:00:00.000000000",
          "2005-01-01T00:00:00.000000000",
          "2005-04-01T00:00:00.000000000",
          "2005-07-01T00:00:00.000000000",
          "2005-10-01T00:00:00.000000000",
          "2006-01-01T00:00:00.000000000",
          "2006-04-01T00:00:00.000000000",
          "2006-07-01T00:00:00.000000000",
          "2006-10-01T00:00:00.000000000",
          "2007-01-01T00:00:00.000000000",
          "2007-04-01T00:00:00.000000000",
          "2007-07-01T00:00:00.000000000",
          "2007-10-01T00:00:00.000000000",
          "2008-01-01T00:00:00.000000000",
          "2008-04-01T00:00:00.000000000",
          "2008-07-01T00:00:00.000000000",
          "2008-10-01T00:00:00.000000000",
          "2009-01-01T00:00:00.000000000",
          "2009-04-01T00:00:00.000000000",
          "2009-07-01T00:00:00.000000000",
          "2009-10-01T00:00:00.000000000",
          "2010-01-01T00:00:00.000000000",
          "2010-04-01T00:00:00.000000000",
          "2010-07-01T00:00:00.000000000",
          "2010-10-01T00:00:00.000000000",
          "2011-01-01T00:00:00.000000000"
         ],
         "y": {
          "bdata": "cD0K16O4aUASg8DKoXVsQNJNYhBYjWhAKocW2c6PbkBYObTIdpZwQHoUrkfhHHJACtejcD04ckB6FK5H4Tx0QO18PzVehHNANV66SQxEeEAYBFYOLah7QIPAyqFFDHtAne+nxktVfEAbL90kBjd+QNEi2/l+Gn1AjpduEoM8gECsHFpkOwCEQGZmZmZmQYVAtMh2vp9Dh0DpJjEIrB+JQARWDi2yG4dAke18PzVphUA1XrpJDCiGQMUgsHJoCYdACKwcWmTch0Db+X5qvHOKQCUGgZVDD41ASOF6FK5FjkD+1HjppnORQFyPwvWoHpJAbhKDwMp1jUDQItv5fsSKQCcxCKwcXIVAEoPAyqFCgkC0yHa+n2iBQHoUrkfhSnlAWmQ7308VdUBKDAIrh6pnQL10kxgEhmNA/Knx0k0OZED6fmq8dMdoQOf7qfHSO3BAVOOlm8R+gUA1XrpJDPuDQF66SQwCXINA",
          "dtype": "f8"
         }
        }
       ],
       "layout": {
        "height": 600,
        "hovermode": "x unified",
        "legend": {
         "font": {
          "size": 8
         },
         "orientation": "h",
         "title": {
          "text": "Series"
         },
         "x": 0.5,
         "xanchor": "center",
         "y": -0.2,
         "yanchor": "top"
        },
        "shapes": [
         {
          "fillcolor": "black",
          "layer": "below",
          "line": {
           "width": 0
          },
          "opacity": 0.2,
          "type": "rect",
          "x0": "2007-01-01T00:00:00",
          "x1": "2008-12-31T00:00:00",
          "xref": "x",
          "y0": 0,
          "y1": 1,
          "yref": "paper"
         }
        ],
        "template": {
         "data": {
          "bar": [
           {
            "error_x": {
             "color": "#2a3f5f"
            },
            "error_y": {
             "color": "#2a3f5f"
            },
            "marker": {
             "line": {
              "color": "#E5ECF6",
              "width": 0.5
             },
             "pattern": {
              "fillmode": "overlay",
              "size": 10,
              "solidity": 0.2
             }
            },
            "type": "bar"
           }
          ],
          "barpolar": [
           {
            "marker": {
             "line": {
              "color": "#E5ECF6",
              "width": 0.5
             },
             "pattern": {
              "fillmode": "overlay",
              "size": 10,
              "solidity": 0.2
             }
            },
            "type": "barpolar"
           }
          ],
          "carpet": [
           {
            "aaxis": {
             "endlinecolor": "#2a3f5f",
             "gridcolor": "white",
             "linecolor": "white",
             "minorgridcolor": "white",
             "startlinecolor": "#2a3f5f"
            },
            "baxis": {
             "endlinecolor": "#2a3f5f",
             "gridcolor": "white",
             "linecolor": "white",
             "minorgridcolor": "white",
             "startlinecolor": "#2a3f5f"
            },
            "type": "carpet"
           }
          ],
          "choropleth": [
           {
            "colorbar": {
             "outlinewidth": 0,
             "ticks": ""
            },
            "type": "choropleth"
           }
          ],
          "contour": [
           {
            "colorbar": {
             "outlinewidth": 0,
             "ticks": ""
            },
            "colorscale": [
             [
              0,
              "#0d0887"
             ],
             [
              0.1111111111111111,
              "#46039f"
             ],
             [
              0.2222222222222222,
              "#7201a8"
             ],
             [
              0.3333333333333333,
              "#9c179e"
             ],
             [
              0.4444444444444444,
              "#bd3786"
             ],
             [
              0.5555555555555556,
              "#d8576b"
             ],
             [
              0.6666666666666666,
              "#ed7953"
             ],
             [
              0.7777777777777778,
              "#fb9f3a"
             ],
             [
              0.8888888888888888,
              "#fdca26"
             ],
             [
              1,
              "#f0f921"
             ]
            ],
            "type": "contour"
           }
          ],
          "contourcarpet": [
           {
            "colorbar": {
             "outlinewidth": 0,
             "ticks": ""
            },
            "type": "contourcarpet"
           }
          ],
          "heatmap": [
           {
            "colorbar": {
             "outlinewidth": 0,
             "ticks": ""
            },
            "colorscale": [
             [
              0,
              "#0d0887"
             ],
             [
              0.1111111111111111,
              "#46039f"
             ],
             [
              0.2222222222222222,
              "#7201a8"
             ],
             [
              0.3333333333333333,
              "#9c179e"
             ],
             [
              0.4444444444444444,
              "#bd3786"
             ],
             [
              0.5555555555555556,
              "#d8576b"
             ],
             [
              0.6666666666666666,
              "#ed7953"
             ],
             [
              0.7777777777777778,
              "#fb9f3a"
             ],
             [
              0.8888888888888888,
              "#fdca26"
             ],
             [
              1,
              "#f0f921"
             ]
            ],
            "type": "heatmap"
           }
          ],
          "histogram": [
           {
            "marker": {
             "pattern": {
              "fillmode": "overlay",
              "size": 10,
              "solidity": 0.2
             }
            },
            "type": "histogram"
           }
          ],
          "histogram2d": [
           {
            "colorbar": {
             "outlinewidth": 0,
             "ticks": ""
            },
            "colorscale": [
             [
              0,
              "#0d0887"
             ],
             [
              0.1111111111111111,
              "#46039f"
             ],
             [
              0.2222222222222222,
              "#7201a8"
             ],
             [
              0.3333333333333333,
              "#9c179e"
             ],
             [
              0.4444444444444444,
              "#bd3786"
             ],
             [
              0.5555555555555556,
              "#d8576b"
             ],
             [
              0.6666666666666666,
              "#ed7953"
             ],
             [
              0.7777777777777778,
              "#fb9f3a"
             ],
             [
              0.8888888888888888,
              "#fdca26"
             ],
             [
              1,
              "#f0f921"
             ]
            ],
            "type": "histogram2d"
           }
          ],
          "histogram2dcontour": [
           {
            "colorbar": {
             "outlinewidth": 0,
             "ticks": ""
            },
            "colorscale": [
             [
              0,
              "#0d0887"
             ],
             [
              0.1111111111111111,
              "#46039f"
             ],
             [
              0.2222222222222222,
              "#7201a8"
             ],
             [
              0.3333333333333333,
              "#9c179e"
             ],
             [
              0.4444444444444444,
              "#bd3786"
             ],
             [
              0.5555555555555556,
              "#d8576b"
             ],
             [
              0.6666666666666666,
              "#ed7953"
             ],
             [
              0.7777777777777778,
              "#fb9f3a"
             ],
             [
              0.8888888888888888,
              "#fdca26"
             ],
             [
              1,
              "#f0f921"
             ]
            ],
            "type": "histogram2dcontour"
           }
          ],
          "mesh3d": [
           {
            "colorbar": {
             "outlinewidth": 0,
             "ticks": ""
            },
            "type": "mesh3d"
           }
          ],
          "parcoords": [
           {
            "line": {
             "colorbar": {
              "outlinewidth": 0,
              "ticks": ""
             }
            },
            "type": "parcoords"
           }
          ],
          "pie": [
           {
            "automargin": true,
            "type": "pie"
           }
          ],
          "scatter": [
           {
            "fillpattern": {
             "fillmode": "overlay",
             "size": 10,
             "solidity": 0.2
            },
            "type": "scatter"
           }
          ],
          "scatter3d": [
           {
            "line": {
             "colorbar": {
              "outlinewidth": 0,
              "ticks": ""
             }
            },
            "marker": {
             "colorbar": {
              "outlinewidth": 0,
              "ticks": ""
             }
            },
            "type": "scatter3d"
           }
          ],
          "scattercarpet": [
           {
            "marker": {
             "colorbar": {
              "outlinewidth": 0,
              "ticks": ""
             }
            },
            "type": "scattercarpet"
           }
          ],
          "scattergeo": [
           {
            "marker": {
             "colorbar": {
              "outlinewidth": 0,
              "ticks": ""
             }
            },
            "type": "scattergeo"
           }
          ],
          "scattergl": [
           {
            "marker": {
             "colorbar": {
              "outlinewidth": 0,
              "ticks": ""
             }
            },
            "type": "scattergl"
           }
          ],
          "scattermap": [
           {
            "marker": {
             "colorbar": {
              "outlinewidth": 0,
              "ticks": ""
             }
            },
            "type": "scattermap"
           }
          ],
          "scattermapbox": [
           {
            "marker": {
             "colorbar": {
              "outlinewidth": 0,
              "ticks": ""
             }
            },
            "type": "scattermapbox"
           }
          ],
          "scatterpolar": [
           {
            "marker": {
             "colorbar": {
              "outlinewidth": 0,
              "ticks": ""
             }
            },
            "type": "scatterpolar"
           }
          ],
          "scatterpolargl": [
           {
            "marker": {
             "colorbar": {
              "outlinewidth": 0,
              "ticks": ""
             }
            },
            "type": "scatterpolargl"
           }
          ],
          "scatterternary": [
           {
            "marker": {
             "colorbar": {
              "outlinewidth": 0,
              "ticks": ""
             }
            },
            "type": "scatterternary"
           }
          ],
          "surface": [
           {
            "colorbar": {
             "outlinewidth": 0,
             "ticks": ""
            },
            "colorscale": [
             [
              0,
              "#0d0887"
             ],
             [
              0.1111111111111111,
              "#46039f"
             ],
             [
              0.2222222222222222,
              "#7201a8"
             ],
             [
              0.3333333333333333,
              "#9c179e"
             ],
             [
              0.4444444444444444,
              "#bd3786"
             ],
             [
              0.5555555555555556,
              "#d8576b"
             ],
             [
              0.6666666666666666,
              "#ed7953"
             ],
             [
              0.7777777777777778,
              "#fb9f3a"
             ],
             [
              0.8888888888888888,
              "#fdca26"
             ],
             [
              1,
              "#f0f921"
             ]
            ],
            "type": "surface"
           }
          ],
          "table": [
           {
            "cells": {
             "fill": {
              "color": "#EBF0F8"
             },
             "line": {
              "color": "white"
             }
            },
            "header": {
             "fill": {
              "color": "#C8D4E3"
             },
             "line": {
              "color": "white"
             }
            },
            "type": "table"
           }
          ]
         },
         "layout": {
          "annotationdefaults": {
           "arrowcolor": "#2a3f5f",
           "arrowhead": 0,
           "arrowwidth": 1
          },
          "autotypenumbers": "strict",
          "coloraxis": {
           "colorbar": {
            "outlinewidth": 0,
            "ticks": ""
           }
          },
          "colorscale": {
           "diverging": [
            [
             0,
             "#8e0152"
            ],
            [
             0.1,
             "#c51b7d"
            ],
            [
             0.2,
             "#de77ae"
            ],
            [
             0.3,
             "#f1b6da"
            ],
            [
             0.4,
             "#fde0ef"
            ],
            [
             0.5,
             "#f7f7f7"
            ],
            [
             0.6,
             "#e6f5d0"
            ],
            [
             0.7,
             "#b8e186"
            ],
            [
             0.8,
             "#7fbc41"
            ],
            [
             0.9,
             "#4d9221"
            ],
            [
             1,
             "#276419"
            ]
           ],
           "sequential": [
            [
             0,
             "#0d0887"
            ],
            [
             0.1111111111111111,
             "#46039f"
            ],
            [
             0.2222222222222222,
             "#7201a8"
            ],
            [
             0.3333333333333333,
             "#9c179e"
            ],
            [
             0.4444444444444444,
             "#bd3786"
            ],
            [
             0.5555555555555556,
             "#d8576b"
            ],
            [
             0.6666666666666666,
             "#ed7953"
            ],
            [
             0.7777777777777778,
             "#fb9f3a"
            ],
            [
             0.8888888888888888,
             "#fdca26"
            ],
            [
             1,
             "#f0f921"
            ]
           ],
           "sequentialminus": [
            [
             0,
             "#0d0887"
            ],
            [
             0.1111111111111111,
             "#46039f"
            ],
            [
             0.2222222222222222,
             "#7201a8"
            ],
            [
             0.3333333333333333,
             "#9c179e"
            ],
            [
             0.4444444444444444,
             "#bd3786"
            ],
            [
             0.5555555555555556,
             "#d8576b"
            ],
            [
             0.6666666666666666,
             "#ed7953"
            ],
            [
             0.7777777777777778,
             "#fb9f3a"
            ],
            [
             0.8888888888888888,
             "#fdca26"
            ],
            [
             1,
             "#f0f921"
            ]
           ]
          },
          "colorway": [
           "#636efa",
           "#EF553B",
           "#00cc96",
           "#ab63fa",
           "#FFA15A",
           "#19d3f3",
           "#FF6692",
           "#B6E880",
           "#FF97FF",
           "#FECB52"
          ],
          "font": {
           "color": "#2a3f5f"
          },
          "geo": {
           "bgcolor": "white",
           "lakecolor": "white",
           "landcolor": "#E5ECF6",
           "showlakes": true,
           "showland": true,
           "subunitcolor": "white"
          },
          "hoverlabel": {
           "align": "left"
          },
          "hovermode": "closest",
          "mapbox": {
           "style": "light"
          },
          "paper_bgcolor": "white",
          "plot_bgcolor": "#E5ECF6",
          "polar": {
           "angularaxis": {
            "gridcolor": "white",
            "linecolor": "white",
            "ticks": ""
           },
           "bgcolor": "#E5ECF6",
           "radialaxis": {
            "gridcolor": "white",
            "linecolor": "white",
            "ticks": ""
           }
          },
          "scene": {
           "xaxis": {
            "backgroundcolor": "#E5ECF6",
            "gridcolor": "white",
            "gridwidth": 2,
            "linecolor": "white",
            "showbackground": true,
            "ticks": "",
            "zerolinecolor": "white"
           },
           "yaxis": {
            "backgroundcolor": "#E5ECF6",
            "gridcolor": "white",
            "gridwidth": 2,
            "linecolor": "white",
            "showbackground": true,
            "ticks": "",
            "zerolinecolor": "white"
           },
           "zaxis": {
            "backgroundcolor": "#E5ECF6",
            "gridcolor": "white",
            "gridwidth": 2,
            "linecolor": "white",
            "showbackground": true,
            "ticks": "",
            "zerolinecolor": "white"
           }
          },
          "shapedefaults": {
           "line": {
            "color": "#2a3f5f"
           }
          },
          "ternary": {
           "aaxis": {
            "gridcolor": "white",
            "linecolor": "white",
            "ticks": ""
           },
           "baxis": {
            "gridcolor": "white",
            "linecolor": "white",
            "ticks": ""
           },
           "bgcolor": "#E5ECF6",
           "caxis": {
            "gridcolor": "white",
            "linecolor": "white",
            "ticks": ""
           }
          },
          "title": {
           "x": 0.05
          },
          "xaxis": {
           "automargin": true,
           "gridcolor": "white",
           "linecolor": "white",
           "ticks": "",
           "title": {
            "standoff": 15
           },
           "zerolinecolor": "white",
           "zerolinewidth": 2
          },
          "yaxis": {
           "automargin": true,
           "gridcolor": "white",
           "linecolor": "white",
           "ticks": "",
           "title": {
            "standoff": 15
           },
           "zerolinecolor": "white",
           "zerolinewidth": 2
          }
         }
        },
        "title": {
         "font": {
          "size": 12
         },
         "text": "U.S. - Debt sec, held by non-residents, issued by residents, in all markets at all original maturities denominated in all currencies at market value net trans",
         "x": 0.5,
         "xanchor": "center"
        },
        "width": 1000,
        "xaxis": {
         "title": {
          "text": "Date"
         }
        },
        "yaxis": {
         "autorange": true,
         "tickformat": ".0f",
         "title": {
          "text": "USD (millions)"
         }
        }
       }
      }
     },
     "metadata": {},
     "output_type": "display_data"
    }
   ],
   "source": [
    "# FIGURE 1  \n",
    "import getBISy.data as data\n",
    "import getBISy.enums as enums\n",
    "from pandas import DataFrame, PeriodIndex, to_numeric, Period\n",
    "import plotly.express as px\n",
    "import plotly.graph_objects as go\n",
    "\n",
    "df = data.get_debt_securities_data(\n",
    "        freq='Q',\n",
    "    reference_area=enums.Region.US,\n",
    "    counterparty_area=enums.Region.CrossBorder,\n",
    "    reporting_sector=enums.Sector.TotalEconomy,\n",
    "    counterparty_sector=enums.Sector.TotalEconomy,\n",
    "    accounting_entry=enums.AccountingEntry.Liabilities,\n",
    "    transaction_type=enums.TransactionType.Flows,\n",
    "    instrument=enums.DebtInstrumentType.All,\n",
    "    maturity=enums.Maturity.Total,\n",
    "    unit_of_measure=enums.UnitOfMeasure.USD,\n",
    "    currency_denomination=enums.CurrencyDenomination.All,\n",
    "    valuation_method=enums.ValuationMethod.MarketValue\n",
    ")\n",
    "\n",
    "df['Trailing_4Q_Sum'] = df['Value'].rolling(window=4).sum()\n",
    "\n",
    "import pandas as pd\n",
    "\n",
    "df['Date'] = PeriodIndex(df['Date'], freq='Q')\n",
    "start = Period('2000-Q1', freq='Q')\n",
    "end = Period('2011-Q1', freq='Q')\n",
    "\n",
    "# Filter rows between start and end (inclusive)\n",
    "\n",
    "df = df[(df['Date'] >= start) & (df['Date'] <= end)]\n",
    "\n",
    "def plot_liquidity_series(df: DataFrame):\n",
    "\n",
    "    fig = go.Figure()\n",
    "    # Convert quarterly periods to timestamps\n",
    "    df['Date'] = PeriodIndex(df['Date'], freq='Q').to_timestamp()\n",
    "    df['Value'] = to_numeric(df['Value'], errors='coerce')\n",
    "    df = df.dropna(subset=['Value'])\n",
    "    df = df.sort_values(by='Date')\n",
    "\n",
    "    fig.add_trace(go.Scatter(\n",
    "        x=df['Date'],\n",
    "        y=df['Value'],\n",
    "        mode='lines+markers',\n",
    "        name=df['Description'].iloc[0]\n",
    "    ))\n",
    "    \n",
    "       # Highlight 2007 Q1 - 2008 Q4\n",
    "    fig.add_shape(\n",
    "        type='rect',\n",
    "        xref='x',\n",
    "        yref='paper',\n",
    "        x0=pd.Timestamp('2007-01-01'),\n",
    "        x1=pd.Timestamp('2008-12-31'),\n",
    "        y0=0,\n",
    "        y1=1,\n",
    "        fillcolor='black',\n",
    "        opacity=0.2,\n",
    "        layer='below',\n",
    "        line_width=0,\n",
    "    )\n",
    "\n",
    "\n",
    "    fig.update_layout(\n",
    "        title=dict(\n",
    "            text=df['Description'].iloc[0],\n",
    "            x=0.5,\n",
    "            xanchor='center',\n",
    "            font=dict(size=20)\n",
    "        ),\n",
    "        xaxis_title='Date',\n",
    "        yaxis_title='USD (millions)',\n",
    "        hovermode='x unified',\n",
    "        yaxis=dict(autorange=True, tickformat=\".0f\"),\n",
    "        width=1000,\n",
    "        height=600,\n",
    "        legend=dict(\n",
    "            title=dict(text='Series'),\n",
    "            font=dict(size=12),\n",
    "            orientation='h',\n",
    "            yanchor='top',\n",
    "            y=-0.2,  # Move legend below the plot\n",
    "            xanchor='center',\n",
    "            x=0.5\n",
    "        )\n",
    "    )\n",
    "    fig.show()\n",
    "\n",
    "def plot_figure_trailing(df: DataFrame) -> None:\n",
    "    fig = go.Figure()\n",
    "    # Convert quarterly periods to timestamps\n",
    "    df['Date'] = PeriodIndex(df['Date'], freq='Q').to_timestamp()\n",
    "    df['Trailing_4Q_Sum'] = to_numeric(df['Trailing_4Q_Sum'], errors='coerce')\n",
    "    df = df.dropna(subset=['Value'])\n",
    "    df = df.sort_values(by='Date')\n",
    "\n",
    "    fig.add_trace(go.Scatter(\n",
    "        x=df['Date'],\n",
    "        y=df['Trailing_4Q_Sum'],\n",
    "        mode='lines+markers',\n",
    "        name='test'\n",
    "    ))\n",
    "\n",
    "       # Highlight 2007 Q1 - 2008 Q4\n",
    "    fig.add_shape(\n",
    "        type='rect',\n",
    "        xref='x',\n",
    "        yref='paper',\n",
    "        x0=pd.Timestamp('2007-01-01'),\n",
    "        x1=pd.Timestamp('2008-12-31'),\n",
    "        y0=0,\n",
    "        y1=1,\n",
    "        fillcolor='black',\n",
    "        opacity=0.2,\n",
    "        layer='below',\n",
    "        line_width=0,\n",
    "    )\n",
    "\n",
    "\n",
    "    fig.update_layout(\n",
    "        title=dict(\n",
    "            text=df['Description'].iloc[0].replace('United States', 'U.S.'),\n",
    "            x=0.5,\n",
    "            xanchor='center',\n",
    "            font=dict(size=12)\n",
    "        ),\n",
    "        xaxis_title='Date',\n",
    "        yaxis_title='USD (millions)',\n",
    "        hovermode='x unified',\n",
    "        yaxis=dict(autorange=True, tickformat=\".0f\"),\n",
    "        width=1000,\n",
    "        height=600,\n",
    "        legend=dict(\n",
    "            title=dict(text='Series'),\n",
    "            font=dict(size=8),\n",
    "            orientation='h',\n",
    "            yanchor='top',\n",
    "            y=-0.2,  # Move legend below the plot\n",
    "            xanchor='center',\n",
    "            x=0.5\n",
    "        )\n",
    "    )\n",
    "\n",
    "    fig.show()\n",
    "\n",
    "plot_figure_trailing(df)\n"
   ]
  },
  {
   "cell_type": "code",
   "execution_count": 40,
   "id": "5275a50a",
   "metadata": {},
   "outputs": [
    {
     "name": "stdout",
     "output_type": "stream",
     "text": [
      "Getting URL: https://stats.bis.org/api/v2/data/dataflow/BIS/WS_NA_SEC_DSS/~/Q.N.US.5Z.S12.S1.N.A.F.F3.T._Z.USD._T.M.V.N._T\n",
      "Returned 293 rows for United States - Debt sec, held by FC, issued by non-residents, in all markets at all original maturities denominated in all currencies at market value net trans\n"
     ]
    },
    {
     "data": {
      "application/vnd.plotly.v1+json": {
       "config": {
        "plotlyServerURL": "https://plot.ly"
       },
       "data": [
        {
         "mode": "lines+markers",
         "name": "test",
         "type": "scatter",
         "x": [
          "2000-01-01T00:00:00.000000000",
          "2000-04-01T00:00:00.000000000",
          "2000-07-01T00:00:00.000000000",
          "2000-10-01T00:00:00.000000000",
          "2001-01-01T00:00:00.000000000",
          "2001-04-01T00:00:00.000000000",
          "2001-07-01T00:00:00.000000000",
          "2001-10-01T00:00:00.000000000",
          "2002-01-01T00:00:00.000000000",
          "2002-04-01T00:00:00.000000000",
          "2002-07-01T00:00:00.000000000",
          "2002-10-01T00:00:00.000000000",
          "2003-01-01T00:00:00.000000000",
          "2003-04-01T00:00:00.000000000",
          "2003-07-01T00:00:00.000000000",
          "2003-10-01T00:00:00.000000000",
          "2004-01-01T00:00:00.000000000",
          "2004-04-01T00:00:00.000000000",
          "2004-07-01T00:00:00.000000000",
          "2004-10-01T00:00:00.000000000",
          "2005-01-01T00:00:00.000000000",
          "2005-04-01T00:00:00.000000000",
          "2005-07-01T00:00:00.000000000",
          "2005-10-01T00:00:00.000000000",
          "2006-01-01T00:00:00.000000000",
          "2006-04-01T00:00:00.000000000",
          "2006-07-01T00:00:00.000000000",
          "2006-10-01T00:00:00.000000000",
          "2007-01-01T00:00:00.000000000",
          "2007-04-01T00:00:00.000000000",
          "2007-07-01T00:00:00.000000000",
          "2007-10-01T00:00:00.000000000",
          "2008-01-01T00:00:00.000000000",
          "2008-04-01T00:00:00.000000000",
          "2008-07-01T00:00:00.000000000",
          "2008-10-01T00:00:00.000000000",
          "2009-01-01T00:00:00.000000000",
          "2009-04-01T00:00:00.000000000",
          "2009-07-01T00:00:00.000000000",
          "2009-10-01T00:00:00.000000000",
          "2010-01-01T00:00:00.000000000",
          "2010-04-01T00:00:00.000000000",
          "2010-07-01T00:00:00.000000000",
          "2010-10-01T00:00:00.000000000",
          "2011-01-01T00:00:00.000000000"
         ],
         "y": {
          "bdata": "AAAAAAAAS0AAAAAAAABBQAAAAAAAgENAAAAAAAAAR0AAAAAAAIBAQAAAAAAAAEFAAAAAAAAAFEAAAAAAAADwPwAAAAAAAABAAAAAAAAAREAAAAAAAABHQAAAAAAAAElAAAAAAAAANEAAAAAAAAA5QAAAAAAAABBAAAAAAAAAQEAAAAAAAMBSQAAAAAAAAEZAAAAAAABAWUAAAAAAAEBWQAAAAAAAgFNAAAAAAABAXEAAAAAAAIBXQAAAAAAAwFJAAAAAAACAXEAAAAAAAMBdQAAAAAAA4GhAAAAAAAAgbkAAAAAAADBwQAAAAAAAcHZAAAAAAADgcUAAAAAAAMBtQAAAAAAAAGRAAAAAAAAAOkAAAAAAAGBhwAAAAAAAoG3AAAAAAADgacAAAAAAAMBiwAAAAAAAgElAAAAAAACAa0AAAAAAAMBtQAAAAAAAoGRAAAAAAACgYUAAAAAAAABaQAAAAAAAYGFA",
          "dtype": "f8"
         }
        }
       ],
       "layout": {
        "height": 600,
        "hovermode": "x unified",
        "legend": {
         "font": {
          "size": 8
         },
         "orientation": "h",
         "title": {
          "text": "Series"
         },
         "x": 0.5,
         "xanchor": "center",
         "y": -0.2,
         "yanchor": "top"
        },
        "shapes": [
         {
          "fillcolor": "black",
          "layer": "below",
          "line": {
           "width": 0
          },
          "opacity": 0.2,
          "type": "rect",
          "x0": "2007-01-01T00:00:00",
          "x1": "2008-12-31T00:00:00",
          "xref": "x",
          "y0": 0,
          "y1": 1,
          "yref": "paper"
         }
        ],
        "template": {
         "data": {
          "bar": [
           {
            "error_x": {
             "color": "#2a3f5f"
            },
            "error_y": {
             "color": "#2a3f5f"
            },
            "marker": {
             "line": {
              "color": "#E5ECF6",
              "width": 0.5
             },
             "pattern": {
              "fillmode": "overlay",
              "size": 10,
              "solidity": 0.2
             }
            },
            "type": "bar"
           }
          ],
          "barpolar": [
           {
            "marker": {
             "line": {
              "color": "#E5ECF6",
              "width": 0.5
             },
             "pattern": {
              "fillmode": "overlay",
              "size": 10,
              "solidity": 0.2
             }
            },
            "type": "barpolar"
           }
          ],
          "carpet": [
           {
            "aaxis": {
             "endlinecolor": "#2a3f5f",
             "gridcolor": "white",
             "linecolor": "white",
             "minorgridcolor": "white",
             "startlinecolor": "#2a3f5f"
            },
            "baxis": {
             "endlinecolor": "#2a3f5f",
             "gridcolor": "white",
             "linecolor": "white",
             "minorgridcolor": "white",
             "startlinecolor": "#2a3f5f"
            },
            "type": "carpet"
           }
          ],
          "choropleth": [
           {
            "colorbar": {
             "outlinewidth": 0,
             "ticks": ""
            },
            "type": "choropleth"
           }
          ],
          "contour": [
           {
            "colorbar": {
             "outlinewidth": 0,
             "ticks": ""
            },
            "colorscale": [
             [
              0,
              "#0d0887"
             ],
             [
              0.1111111111111111,
              "#46039f"
             ],
             [
              0.2222222222222222,
              "#7201a8"
             ],
             [
              0.3333333333333333,
              "#9c179e"
             ],
             [
              0.4444444444444444,
              "#bd3786"
             ],
             [
              0.5555555555555556,
              "#d8576b"
             ],
             [
              0.6666666666666666,
              "#ed7953"
             ],
             [
              0.7777777777777778,
              "#fb9f3a"
             ],
             [
              0.8888888888888888,
              "#fdca26"
             ],
             [
              1,
              "#f0f921"
             ]
            ],
            "type": "contour"
           }
          ],
          "contourcarpet": [
           {
            "colorbar": {
             "outlinewidth": 0,
             "ticks": ""
            },
            "type": "contourcarpet"
           }
          ],
          "heatmap": [
           {
            "colorbar": {
             "outlinewidth": 0,
             "ticks": ""
            },
            "colorscale": [
             [
              0,
              "#0d0887"
             ],
             [
              0.1111111111111111,
              "#46039f"
             ],
             [
              0.2222222222222222,
              "#7201a8"
             ],
             [
              0.3333333333333333,
              "#9c179e"
             ],
             [
              0.4444444444444444,
              "#bd3786"
             ],
             [
              0.5555555555555556,
              "#d8576b"
             ],
             [
              0.6666666666666666,
              "#ed7953"
             ],
             [
              0.7777777777777778,
              "#fb9f3a"
             ],
             [
              0.8888888888888888,
              "#fdca26"
             ],
             [
              1,
              "#f0f921"
             ]
            ],
            "type": "heatmap"
           }
          ],
          "histogram": [
           {
            "marker": {
             "pattern": {
              "fillmode": "overlay",
              "size": 10,
              "solidity": 0.2
             }
            },
            "type": "histogram"
           }
          ],
          "histogram2d": [
           {
            "colorbar": {
             "outlinewidth": 0,
             "ticks": ""
            },
            "colorscale": [
             [
              0,
              "#0d0887"
             ],
             [
              0.1111111111111111,
              "#46039f"
             ],
             [
              0.2222222222222222,
              "#7201a8"
             ],
             [
              0.3333333333333333,
              "#9c179e"
             ],
             [
              0.4444444444444444,
              "#bd3786"
             ],
             [
              0.5555555555555556,
              "#d8576b"
             ],
             [
              0.6666666666666666,
              "#ed7953"
             ],
             [
              0.7777777777777778,
              "#fb9f3a"
             ],
             [
              0.8888888888888888,
              "#fdca26"
             ],
             [
              1,
              "#f0f921"
             ]
            ],
            "type": "histogram2d"
           }
          ],
          "histogram2dcontour": [
           {
            "colorbar": {
             "outlinewidth": 0,
             "ticks": ""
            },
            "colorscale": [
             [
              0,
              "#0d0887"
             ],
             [
              0.1111111111111111,
              "#46039f"
             ],
             [
              0.2222222222222222,
              "#7201a8"
             ],
             [
              0.3333333333333333,
              "#9c179e"
             ],
             [
              0.4444444444444444,
              "#bd3786"
             ],
             [
              0.5555555555555556,
              "#d8576b"
             ],
             [
              0.6666666666666666,
              "#ed7953"
             ],
             [
              0.7777777777777778,
              "#fb9f3a"
             ],
             [
              0.8888888888888888,
              "#fdca26"
             ],
             [
              1,
              "#f0f921"
             ]
            ],
            "type": "histogram2dcontour"
           }
          ],
          "mesh3d": [
           {
            "colorbar": {
             "outlinewidth": 0,
             "ticks": ""
            },
            "type": "mesh3d"
           }
          ],
          "parcoords": [
           {
            "line": {
             "colorbar": {
              "outlinewidth": 0,
              "ticks": ""
             }
            },
            "type": "parcoords"
           }
          ],
          "pie": [
           {
            "automargin": true,
            "type": "pie"
           }
          ],
          "scatter": [
           {
            "fillpattern": {
             "fillmode": "overlay",
             "size": 10,
             "solidity": 0.2
            },
            "type": "scatter"
           }
          ],
          "scatter3d": [
           {
            "line": {
             "colorbar": {
              "outlinewidth": 0,
              "ticks": ""
             }
            },
            "marker": {
             "colorbar": {
              "outlinewidth": 0,
              "ticks": ""
             }
            },
            "type": "scatter3d"
           }
          ],
          "scattercarpet": [
           {
            "marker": {
             "colorbar": {
              "outlinewidth": 0,
              "ticks": ""
             }
            },
            "type": "scattercarpet"
           }
          ],
          "scattergeo": [
           {
            "marker": {
             "colorbar": {
              "outlinewidth": 0,
              "ticks": ""
             }
            },
            "type": "scattergeo"
           }
          ],
          "scattergl": [
           {
            "marker": {
             "colorbar": {
              "outlinewidth": 0,
              "ticks": ""
             }
            },
            "type": "scattergl"
           }
          ],
          "scattermap": [
           {
            "marker": {
             "colorbar": {
              "outlinewidth": 0,
              "ticks": ""
             }
            },
            "type": "scattermap"
           }
          ],
          "scattermapbox": [
           {
            "marker": {
             "colorbar": {
              "outlinewidth": 0,
              "ticks": ""
             }
            },
            "type": "scattermapbox"
           }
          ],
          "scatterpolar": [
           {
            "marker": {
             "colorbar": {
              "outlinewidth": 0,
              "ticks": ""
             }
            },
            "type": "scatterpolar"
           }
          ],
          "scatterpolargl": [
           {
            "marker": {
             "colorbar": {
              "outlinewidth": 0,
              "ticks": ""
             }
            },
            "type": "scatterpolargl"
           }
          ],
          "scatterternary": [
           {
            "marker": {
             "colorbar": {
              "outlinewidth": 0,
              "ticks": ""
             }
            },
            "type": "scatterternary"
           }
          ],
          "surface": [
           {
            "colorbar": {
             "outlinewidth": 0,
             "ticks": ""
            },
            "colorscale": [
             [
              0,
              "#0d0887"
             ],
             [
              0.1111111111111111,
              "#46039f"
             ],
             [
              0.2222222222222222,
              "#7201a8"
             ],
             [
              0.3333333333333333,
              "#9c179e"
             ],
             [
              0.4444444444444444,
              "#bd3786"
             ],
             [
              0.5555555555555556,
              "#d8576b"
             ],
             [
              0.6666666666666666,
              "#ed7953"
             ],
             [
              0.7777777777777778,
              "#fb9f3a"
             ],
             [
              0.8888888888888888,
              "#fdca26"
             ],
             [
              1,
              "#f0f921"
             ]
            ],
            "type": "surface"
           }
          ],
          "table": [
           {
            "cells": {
             "fill": {
              "color": "#EBF0F8"
             },
             "line": {
              "color": "white"
             }
            },
            "header": {
             "fill": {
              "color": "#C8D4E3"
             },
             "line": {
              "color": "white"
             }
            },
            "type": "table"
           }
          ]
         },
         "layout": {
          "annotationdefaults": {
           "arrowcolor": "#2a3f5f",
           "arrowhead": 0,
           "arrowwidth": 1
          },
          "autotypenumbers": "strict",
          "coloraxis": {
           "colorbar": {
            "outlinewidth": 0,
            "ticks": ""
           }
          },
          "colorscale": {
           "diverging": [
            [
             0,
             "#8e0152"
            ],
            [
             0.1,
             "#c51b7d"
            ],
            [
             0.2,
             "#de77ae"
            ],
            [
             0.3,
             "#f1b6da"
            ],
            [
             0.4,
             "#fde0ef"
            ],
            [
             0.5,
             "#f7f7f7"
            ],
            [
             0.6,
             "#e6f5d0"
            ],
            [
             0.7,
             "#b8e186"
            ],
            [
             0.8,
             "#7fbc41"
            ],
            [
             0.9,
             "#4d9221"
            ],
            [
             1,
             "#276419"
            ]
           ],
           "sequential": [
            [
             0,
             "#0d0887"
            ],
            [
             0.1111111111111111,
             "#46039f"
            ],
            [
             0.2222222222222222,
             "#7201a8"
            ],
            [
             0.3333333333333333,
             "#9c179e"
            ],
            [
             0.4444444444444444,
             "#bd3786"
            ],
            [
             0.5555555555555556,
             "#d8576b"
            ],
            [
             0.6666666666666666,
             "#ed7953"
            ],
            [
             0.7777777777777778,
             "#fb9f3a"
            ],
            [
             0.8888888888888888,
             "#fdca26"
            ],
            [
             1,
             "#f0f921"
            ]
           ],
           "sequentialminus": [
            [
             0,
             "#0d0887"
            ],
            [
             0.1111111111111111,
             "#46039f"
            ],
            [
             0.2222222222222222,
             "#7201a8"
            ],
            [
             0.3333333333333333,
             "#9c179e"
            ],
            [
             0.4444444444444444,
             "#bd3786"
            ],
            [
             0.5555555555555556,
             "#d8576b"
            ],
            [
             0.6666666666666666,
             "#ed7953"
            ],
            [
             0.7777777777777778,
             "#fb9f3a"
            ],
            [
             0.8888888888888888,
             "#fdca26"
            ],
            [
             1,
             "#f0f921"
            ]
           ]
          },
          "colorway": [
           "#636efa",
           "#EF553B",
           "#00cc96",
           "#ab63fa",
           "#FFA15A",
           "#19d3f3",
           "#FF6692",
           "#B6E880",
           "#FF97FF",
           "#FECB52"
          ],
          "font": {
           "color": "#2a3f5f"
          },
          "geo": {
           "bgcolor": "white",
           "lakecolor": "white",
           "landcolor": "#E5ECF6",
           "showlakes": true,
           "showland": true,
           "subunitcolor": "white"
          },
          "hoverlabel": {
           "align": "left"
          },
          "hovermode": "closest",
          "mapbox": {
           "style": "light"
          },
          "paper_bgcolor": "white",
          "plot_bgcolor": "#E5ECF6",
          "polar": {
           "angularaxis": {
            "gridcolor": "white",
            "linecolor": "white",
            "ticks": ""
           },
           "bgcolor": "#E5ECF6",
           "radialaxis": {
            "gridcolor": "white",
            "linecolor": "white",
            "ticks": ""
           }
          },
          "scene": {
           "xaxis": {
            "backgroundcolor": "#E5ECF6",
            "gridcolor": "white",
            "gridwidth": 2,
            "linecolor": "white",
            "showbackground": true,
            "ticks": "",
            "zerolinecolor": "white"
           },
           "yaxis": {
            "backgroundcolor": "#E5ECF6",
            "gridcolor": "white",
            "gridwidth": 2,
            "linecolor": "white",
            "showbackground": true,
            "ticks": "",
            "zerolinecolor": "white"
           },
           "zaxis": {
            "backgroundcolor": "#E5ECF6",
            "gridcolor": "white",
            "gridwidth": 2,
            "linecolor": "white",
            "showbackground": true,
            "ticks": "",
            "zerolinecolor": "white"
           }
          },
          "shapedefaults": {
           "line": {
            "color": "#2a3f5f"
           }
          },
          "ternary": {
           "aaxis": {
            "gridcolor": "white",
            "linecolor": "white",
            "ticks": ""
           },
           "baxis": {
            "gridcolor": "white",
            "linecolor": "white",
            "ticks": ""
           },
           "bgcolor": "#E5ECF6",
           "caxis": {
            "gridcolor": "white",
            "linecolor": "white",
            "ticks": ""
           }
          },
          "title": {
           "x": 0.05
          },
          "xaxis": {
           "automargin": true,
           "gridcolor": "white",
           "linecolor": "white",
           "ticks": "",
           "title": {
            "standoff": 15
           },
           "zerolinecolor": "white",
           "zerolinewidth": 2
          },
          "yaxis": {
           "automargin": true,
           "gridcolor": "white",
           "linecolor": "white",
           "ticks": "",
           "title": {
            "standoff": 15
           },
           "zerolinecolor": "white",
           "zerolinewidth": 2
          }
         }
        },
        "title": {
         "font": {
          "size": 12
         },
         "text": "U.S. - Debt sec, held by FC, issued by non-residents, in all markets at all original maturities denominated in all currencies at market value net trans",
         "x": 0.5,
         "xanchor": "center"
        },
        "width": 1000,
        "xaxis": {
         "title": {
          "text": "Date"
         }
        },
        "yaxis": {
         "autorange": true,
         "tickformat": ".0f",
         "title": {
          "text": "USD (millions)"
         }
        }
       }
      }
     },
     "metadata": {},
     "output_type": "display_data"
    }
   ],
   "source": [
    "## Figure 2 - U.S. residents' holdings of foreign debt massively fell off - capital came home\n",
    "\n",
    "df = data.get_debt_securities_data(\n",
    "        freq='Q',\n",
    "    reference_area=enums.Region.US,\n",
    "    counterparty_area=enums.Region.CrossBorder,\n",
    "    reporting_sector=enums.Sector.FinancialSector,\n",
    "    counterparty_sector=enums.Sector.TotalEconomy,\n",
    "    accounting_entry=enums.AccountingEntry.Assets,\n",
    "    transaction_type=enums.TransactionType.Flows,\n",
    "    instrument=enums.DebtInstrumentType.All,\n",
    "    maturity=enums.Maturity.Total,\n",
    "    unit_of_measure=enums.UnitOfMeasure.USD,\n",
    "    currency_denomination=enums.CurrencyDenomination.All,\n",
    "    valuation_method=enums.ValuationMethod.MarketValue\n",
    ")\n",
    "\n",
    "df['Trailing_4Q_Sum'] = df['Value'].rolling(window=4).sum()\n",
    "\n",
    "import pandas as pd\n",
    "\n",
    "df['Date'] = PeriodIndex(df['Date'], freq='Q')\n",
    "start = Period('2000-Q1', freq='Q')\n",
    "end = Period('2011-Q1', freq='Q')\n",
    "\n",
    "# Filter rows between start and end (inclusive)\n",
    "\n",
    "df = df[(df['Date'] >= start) & (df['Date'] <= end)]\n",
    "\n",
    "\n",
    "plot_figure_trailing(df)\n",
    "\n"
   ]
  },
  {
   "cell_type": "code",
   "execution_count": 41,
   "id": "b073c184",
   "metadata": {},
   "outputs": [
    {
     "name": "stdout",
     "output_type": "stream",
     "text": [
      "Getting URL: https://stats.bis.org/api/v2/data/dataflow/BIS/WS_NA_SEC_DSS/~/Q.N.US.5Z.S13.S1.N.L.LE.F3.T._Z.USD._T.M.V.N._T\n",
      "Returned 293 rows for United States - Debt sec, held by non-residents, issued by gen govt, in all markets at all original maturities denominated in all currencies at market value stocks\n"
     ]
    },
    {
     "data": {
      "application/vnd.plotly.v1+json": {
       "config": {
        "plotlyServerURL": "https://plot.ly"
       },
       "data": [
        {
         "mode": "lines+markers",
         "name": "test",
         "type": "scatter",
         "x": [
          "2000-04-01T00:00:00.000000000",
          "2000-07-01T00:00:00.000000000",
          "2000-10-01T00:00:00.000000000",
          "2001-01-01T00:00:00.000000000",
          "2001-04-01T00:00:00.000000000",
          "2001-07-01T00:00:00.000000000",
          "2001-10-01T00:00:00.000000000",
          "2002-01-01T00:00:00.000000000",
          "2002-04-01T00:00:00.000000000",
          "2002-07-01T00:00:00.000000000",
          "2002-10-01T00:00:00.000000000",
          "2003-01-01T00:00:00.000000000",
          "2003-04-01T00:00:00.000000000",
          "2003-07-01T00:00:00.000000000",
          "2003-10-01T00:00:00.000000000",
          "2004-01-01T00:00:00.000000000",
          "2004-04-01T00:00:00.000000000",
          "2004-07-01T00:00:00.000000000",
          "2004-10-01T00:00:00.000000000",
          "2005-01-01T00:00:00.000000000",
          "2005-04-01T00:00:00.000000000",
          "2005-07-01T00:00:00.000000000",
          "2005-10-01T00:00:00.000000000",
          "2006-01-01T00:00:00.000000000",
          "2006-04-01T00:00:00.000000000",
          "2006-07-01T00:00:00.000000000",
          "2006-10-01T00:00:00.000000000",
          "2007-01-01T00:00:00.000000000",
          "2007-04-01T00:00:00.000000000",
          "2007-07-01T00:00:00.000000000",
          "2007-10-01T00:00:00.000000000",
          "2008-01-01T00:00:00.000000000",
          "2008-04-01T00:00:00.000000000",
          "2008-07-01T00:00:00.000000000",
          "2008-10-01T00:00:00.000000000",
          "2009-01-01T00:00:00.000000000",
          "2009-04-01T00:00:00.000000000",
          "2009-07-01T00:00:00.000000000",
          "2009-10-01T00:00:00.000000000",
          "2010-01-01T00:00:00.000000000",
          "2010-04-01T00:00:00.000000000",
          "2010-07-01T00:00:00.000000000",
          "2010-10-01T00:00:00.000000000",
          "2011-01-01T00:00:00.000000000"
         ],
         "y": {
          "bdata": "AAAAAAAA+H8AAAAAAAD4fwAAAAAAAPh/gEFg5dCSQ8BgZmZmZiZGwMAmMQisXCvAwJ8aL92UUkCgGi/dJKZWQHi+nxovEWRAINv5fmpQa0CAarx0kzRoQAhWDi2yNWtA8KfGSzcRcUCQl24Sg3BxQJDC9ShcR21AKFyPwvVsdUC08/3UeKd3QJAYBFYOX3ZARLbz/dQwc0AwMzMzM+NvQIjrUbgeKWFAKDEIrBxqYEB4FK5H4bJlQMAgsHJoGVZAYGiR7XyfT0AA/tR46VZYQFA3iUFgUWJAOAisHFpAbUA4CKwcWpxrQDAzMzMz+2hA6NAi2/kucECQwvUoXH91QFC4HoXrN3lAEC2yne99gkA4tMh2vn2LQJiZmZmZ6opARIts5/tAi0DIdr6fGo2HQCDb+X5qcHpAYOXQIttRfECo8dJNYmWDQGQQWDm0GIpAjEFg5dD1iEAMLbKd74GFQA==",
          "dtype": "f8"
         }
        }
       ],
       "layout": {
        "height": 600,
        "hovermode": "x unified",
        "legend": {
         "font": {
          "size": 8
         },
         "orientation": "h",
         "title": {
          "text": "Series"
         },
         "x": 0.5,
         "xanchor": "center",
         "y": -0.2,
         "yanchor": "top"
        },
        "shapes": [
         {
          "fillcolor": "black",
          "layer": "below",
          "line": {
           "width": 0
          },
          "opacity": 0.2,
          "type": "rect",
          "x0": "2007-01-01T00:00:00",
          "x1": "2008-12-31T00:00:00",
          "xref": "x",
          "y0": 0,
          "y1": 1,
          "yref": "paper"
         }
        ],
        "template": {
         "data": {
          "bar": [
           {
            "error_x": {
             "color": "#2a3f5f"
            },
            "error_y": {
             "color": "#2a3f5f"
            },
            "marker": {
             "line": {
              "color": "#E5ECF6",
              "width": 0.5
             },
             "pattern": {
              "fillmode": "overlay",
              "size": 10,
              "solidity": 0.2
             }
            },
            "type": "bar"
           }
          ],
          "barpolar": [
           {
            "marker": {
             "line": {
              "color": "#E5ECF6",
              "width": 0.5
             },
             "pattern": {
              "fillmode": "overlay",
              "size": 10,
              "solidity": 0.2
             }
            },
            "type": "barpolar"
           }
          ],
          "carpet": [
           {
            "aaxis": {
             "endlinecolor": "#2a3f5f",
             "gridcolor": "white",
             "linecolor": "white",
             "minorgridcolor": "white",
             "startlinecolor": "#2a3f5f"
            },
            "baxis": {
             "endlinecolor": "#2a3f5f",
             "gridcolor": "white",
             "linecolor": "white",
             "minorgridcolor": "white",
             "startlinecolor": "#2a3f5f"
            },
            "type": "carpet"
           }
          ],
          "choropleth": [
           {
            "colorbar": {
             "outlinewidth": 0,
             "ticks": ""
            },
            "type": "choropleth"
           }
          ],
          "contour": [
           {
            "colorbar": {
             "outlinewidth": 0,
             "ticks": ""
            },
            "colorscale": [
             [
              0,
              "#0d0887"
             ],
             [
              0.1111111111111111,
              "#46039f"
             ],
             [
              0.2222222222222222,
              "#7201a8"
             ],
             [
              0.3333333333333333,
              "#9c179e"
             ],
             [
              0.4444444444444444,
              "#bd3786"
             ],
             [
              0.5555555555555556,
              "#d8576b"
             ],
             [
              0.6666666666666666,
              "#ed7953"
             ],
             [
              0.7777777777777778,
              "#fb9f3a"
             ],
             [
              0.8888888888888888,
              "#fdca26"
             ],
             [
              1,
              "#f0f921"
             ]
            ],
            "type": "contour"
           }
          ],
          "contourcarpet": [
           {
            "colorbar": {
             "outlinewidth": 0,
             "ticks": ""
            },
            "type": "contourcarpet"
           }
          ],
          "heatmap": [
           {
            "colorbar": {
             "outlinewidth": 0,
             "ticks": ""
            },
            "colorscale": [
             [
              0,
              "#0d0887"
             ],
             [
              0.1111111111111111,
              "#46039f"
             ],
             [
              0.2222222222222222,
              "#7201a8"
             ],
             [
              0.3333333333333333,
              "#9c179e"
             ],
             [
              0.4444444444444444,
              "#bd3786"
             ],
             [
              0.5555555555555556,
              "#d8576b"
             ],
             [
              0.6666666666666666,
              "#ed7953"
             ],
             [
              0.7777777777777778,
              "#fb9f3a"
             ],
             [
              0.8888888888888888,
              "#fdca26"
             ],
             [
              1,
              "#f0f921"
             ]
            ],
            "type": "heatmap"
           }
          ],
          "histogram": [
           {
            "marker": {
             "pattern": {
              "fillmode": "overlay",
              "size": 10,
              "solidity": 0.2
             }
            },
            "type": "histogram"
           }
          ],
          "histogram2d": [
           {
            "colorbar": {
             "outlinewidth": 0,
             "ticks": ""
            },
            "colorscale": [
             [
              0,
              "#0d0887"
             ],
             [
              0.1111111111111111,
              "#46039f"
             ],
             [
              0.2222222222222222,
              "#7201a8"
             ],
             [
              0.3333333333333333,
              "#9c179e"
             ],
             [
              0.4444444444444444,
              "#bd3786"
             ],
             [
              0.5555555555555556,
              "#d8576b"
             ],
             [
              0.6666666666666666,
              "#ed7953"
             ],
             [
              0.7777777777777778,
              "#fb9f3a"
             ],
             [
              0.8888888888888888,
              "#fdca26"
             ],
             [
              1,
              "#f0f921"
             ]
            ],
            "type": "histogram2d"
           }
          ],
          "histogram2dcontour": [
           {
            "colorbar": {
             "outlinewidth": 0,
             "ticks": ""
            },
            "colorscale": [
             [
              0,
              "#0d0887"
             ],
             [
              0.1111111111111111,
              "#46039f"
             ],
             [
              0.2222222222222222,
              "#7201a8"
             ],
             [
              0.3333333333333333,
              "#9c179e"
             ],
             [
              0.4444444444444444,
              "#bd3786"
             ],
             [
              0.5555555555555556,
              "#d8576b"
             ],
             [
              0.6666666666666666,
              "#ed7953"
             ],
             [
              0.7777777777777778,
              "#fb9f3a"
             ],
             [
              0.8888888888888888,
              "#fdca26"
             ],
             [
              1,
              "#f0f921"
             ]
            ],
            "type": "histogram2dcontour"
           }
          ],
          "mesh3d": [
           {
            "colorbar": {
             "outlinewidth": 0,
             "ticks": ""
            },
            "type": "mesh3d"
           }
          ],
          "parcoords": [
           {
            "line": {
             "colorbar": {
              "outlinewidth": 0,
              "ticks": ""
             }
            },
            "type": "parcoords"
           }
          ],
          "pie": [
           {
            "automargin": true,
            "type": "pie"
           }
          ],
          "scatter": [
           {
            "fillpattern": {
             "fillmode": "overlay",
             "size": 10,
             "solidity": 0.2
            },
            "type": "scatter"
           }
          ],
          "scatter3d": [
           {
            "line": {
             "colorbar": {
              "outlinewidth": 0,
              "ticks": ""
             }
            },
            "marker": {
             "colorbar": {
              "outlinewidth": 0,
              "ticks": ""
             }
            },
            "type": "scatter3d"
           }
          ],
          "scattercarpet": [
           {
            "marker": {
             "colorbar": {
              "outlinewidth": 0,
              "ticks": ""
             }
            },
            "type": "scattercarpet"
           }
          ],
          "scattergeo": [
           {
            "marker": {
             "colorbar": {
              "outlinewidth": 0,
              "ticks": ""
             }
            },
            "type": "scattergeo"
           }
          ],
          "scattergl": [
           {
            "marker": {
             "colorbar": {
              "outlinewidth": 0,
              "ticks": ""
             }
            },
            "type": "scattergl"
           }
          ],
          "scattermap": [
           {
            "marker": {
             "colorbar": {
              "outlinewidth": 0,
              "ticks": ""
             }
            },
            "type": "scattermap"
           }
          ],
          "scattermapbox": [
           {
            "marker": {
             "colorbar": {
              "outlinewidth": 0,
              "ticks": ""
             }
            },
            "type": "scattermapbox"
           }
          ],
          "scatterpolar": [
           {
            "marker": {
             "colorbar": {
              "outlinewidth": 0,
              "ticks": ""
             }
            },
            "type": "scatterpolar"
           }
          ],
          "scatterpolargl": [
           {
            "marker": {
             "colorbar": {
              "outlinewidth": 0,
              "ticks": ""
             }
            },
            "type": "scatterpolargl"
           }
          ],
          "scatterternary": [
           {
            "marker": {
             "colorbar": {
              "outlinewidth": 0,
              "ticks": ""
             }
            },
            "type": "scatterternary"
           }
          ],
          "surface": [
           {
            "colorbar": {
             "outlinewidth": 0,
             "ticks": ""
            },
            "colorscale": [
             [
              0,
              "#0d0887"
             ],
             [
              0.1111111111111111,
              "#46039f"
             ],
             [
              0.2222222222222222,
              "#7201a8"
             ],
             [
              0.3333333333333333,
              "#9c179e"
             ],
             [
              0.4444444444444444,
              "#bd3786"
             ],
             [
              0.5555555555555556,
              "#d8576b"
             ],
             [
              0.6666666666666666,
              "#ed7953"
             ],
             [
              0.7777777777777778,
              "#fb9f3a"
             ],
             [
              0.8888888888888888,
              "#fdca26"
             ],
             [
              1,
              "#f0f921"
             ]
            ],
            "type": "surface"
           }
          ],
          "table": [
           {
            "cells": {
             "fill": {
              "color": "#EBF0F8"
             },
             "line": {
              "color": "white"
             }
            },
            "header": {
             "fill": {
              "color": "#C8D4E3"
             },
             "line": {
              "color": "white"
             }
            },
            "type": "table"
           }
          ]
         },
         "layout": {
          "annotationdefaults": {
           "arrowcolor": "#2a3f5f",
           "arrowhead": 0,
           "arrowwidth": 1
          },
          "autotypenumbers": "strict",
          "coloraxis": {
           "colorbar": {
            "outlinewidth": 0,
            "ticks": ""
           }
          },
          "colorscale": {
           "diverging": [
            [
             0,
             "#8e0152"
            ],
            [
             0.1,
             "#c51b7d"
            ],
            [
             0.2,
             "#de77ae"
            ],
            [
             0.3,
             "#f1b6da"
            ],
            [
             0.4,
             "#fde0ef"
            ],
            [
             0.5,
             "#f7f7f7"
            ],
            [
             0.6,
             "#e6f5d0"
            ],
            [
             0.7,
             "#b8e186"
            ],
            [
             0.8,
             "#7fbc41"
            ],
            [
             0.9,
             "#4d9221"
            ],
            [
             1,
             "#276419"
            ]
           ],
           "sequential": [
            [
             0,
             "#0d0887"
            ],
            [
             0.1111111111111111,
             "#46039f"
            ],
            [
             0.2222222222222222,
             "#7201a8"
            ],
            [
             0.3333333333333333,
             "#9c179e"
            ],
            [
             0.4444444444444444,
             "#bd3786"
            ],
            [
             0.5555555555555556,
             "#d8576b"
            ],
            [
             0.6666666666666666,
             "#ed7953"
            ],
            [
             0.7777777777777778,
             "#fb9f3a"
            ],
            [
             0.8888888888888888,
             "#fdca26"
            ],
            [
             1,
             "#f0f921"
            ]
           ],
           "sequentialminus": [
            [
             0,
             "#0d0887"
            ],
            [
             0.1111111111111111,
             "#46039f"
            ],
            [
             0.2222222222222222,
             "#7201a8"
            ],
            [
             0.3333333333333333,
             "#9c179e"
            ],
            [
             0.4444444444444444,
             "#bd3786"
            ],
            [
             0.5555555555555556,
             "#d8576b"
            ],
            [
             0.6666666666666666,
             "#ed7953"
            ],
            [
             0.7777777777777778,
             "#fb9f3a"
            ],
            [
             0.8888888888888888,
             "#fdca26"
            ],
            [
             1,
             "#f0f921"
            ]
           ]
          },
          "colorway": [
           "#636efa",
           "#EF553B",
           "#00cc96",
           "#ab63fa",
           "#FFA15A",
           "#19d3f3",
           "#FF6692",
           "#B6E880",
           "#FF97FF",
           "#FECB52"
          ],
          "font": {
           "color": "#2a3f5f"
          },
          "geo": {
           "bgcolor": "white",
           "lakecolor": "white",
           "landcolor": "#E5ECF6",
           "showlakes": true,
           "showland": true,
           "subunitcolor": "white"
          },
          "hoverlabel": {
           "align": "left"
          },
          "hovermode": "closest",
          "mapbox": {
           "style": "light"
          },
          "paper_bgcolor": "white",
          "plot_bgcolor": "#E5ECF6",
          "polar": {
           "angularaxis": {
            "gridcolor": "white",
            "linecolor": "white",
            "ticks": ""
           },
           "bgcolor": "#E5ECF6",
           "radialaxis": {
            "gridcolor": "white",
            "linecolor": "white",
            "ticks": ""
           }
          },
          "scene": {
           "xaxis": {
            "backgroundcolor": "#E5ECF6",
            "gridcolor": "white",
            "gridwidth": 2,
            "linecolor": "white",
            "showbackground": true,
            "ticks": "",
            "zerolinecolor": "white"
           },
           "yaxis": {
            "backgroundcolor": "#E5ECF6",
            "gridcolor": "white",
            "gridwidth": 2,
            "linecolor": "white",
            "showbackground": true,
            "ticks": "",
            "zerolinecolor": "white"
           },
           "zaxis": {
            "backgroundcolor": "#E5ECF6",
            "gridcolor": "white",
            "gridwidth": 2,
            "linecolor": "white",
            "showbackground": true,
            "ticks": "",
            "zerolinecolor": "white"
           }
          },
          "shapedefaults": {
           "line": {
            "color": "#2a3f5f"
           }
          },
          "ternary": {
           "aaxis": {
            "gridcolor": "white",
            "linecolor": "white",
            "ticks": ""
           },
           "baxis": {
            "gridcolor": "white",
            "linecolor": "white",
            "ticks": ""
           },
           "bgcolor": "#E5ECF6",
           "caxis": {
            "gridcolor": "white",
            "linecolor": "white",
            "ticks": ""
           }
          },
          "title": {
           "x": 0.05
          },
          "xaxis": {
           "automargin": true,
           "gridcolor": "white",
           "linecolor": "white",
           "ticks": "",
           "title": {
            "standoff": 15
           },
           "zerolinecolor": "white",
           "zerolinewidth": 2
          },
          "yaxis": {
           "automargin": true,
           "gridcolor": "white",
           "linecolor": "white",
           "ticks": "",
           "title": {
            "standoff": 15
           },
           "zerolinecolor": "white",
           "zerolinewidth": 2
          }
         }
        },
        "title": {
         "font": {
          "size": 12
         },
         "text": "U.S. - Debt sec, held by non-residents, issued by gen govt, in all markets at all original maturities denominated in all currencies at market value stocks",
         "x": 0.5,
         "xanchor": "center"
        },
        "width": 1000,
        "xaxis": {
         "title": {
          "text": "Date"
         }
        },
        "yaxis": {
         "autorange": true,
         "tickformat": ".0f",
         "title": {
          "text": "USD (millions)"
         }
        }
       }
      }
     },
     "metadata": {},
     "output_type": "display_data"
    }
   ],
   "source": [
    "## Figure 3 - GFC saw a flow into U.S. GOVERNMENT debt securities by foreigners, even as total holdings fell.\n",
    "\n",
    "df = data.get_debt_securities_data(\n",
    "    freq='Q',\n",
    "    reference_area=enums.Region.US,\n",
    "    counterparty_area=enums.Region.CrossBorder,\n",
    "    reporting_sector=enums.Sector.GeneralGovernment,\n",
    "    counterparty_sector=enums.Sector.TotalEconomy,\n",
    "    accounting_entry=enums.AccountingEntry.Liabilities,\n",
    "    transaction_type=enums.TransactionType.Stocks,\n",
    "    instrument=enums.DebtInstrumentType.All,\n",
    "    maturity=enums.Maturity.Total,\n",
    "    unit_of_measure=enums.UnitOfMeasure.USD,\n",
    "    currency_denomination=enums.CurrencyDenomination.All,\n",
    "    valuation_method=enums.ValuationMethod.MarketValue\n",
    ")\n",
    "\n",
    "df['Date'] = pd.PeriodIndex(df['Date'], freq='Q')\n",
    "start = Period('2000-Q1', freq='Q')\n",
    "end = Period('2011-Q1', freq='Q')\n",
    "df = df[(df['Date'] >= start) & (df['Date'] <= end)]\n",
    "\n",
    "df['Value'] = to_numeric(df['Value']).diff()\n",
    "df['Trailing_4Q_Sum'] = df['Value'].rolling(window=4).sum()\n",
    "\n",
    "plot_figure_trailing(df)\n"
   ]
  },
  {
   "cell_type": "code",
   "execution_count": null,
   "id": "71a2cc12",
   "metadata": {},
   "outputs": [
    {
     "name": "stdout",
     "output_type": "stream",
     "text": [
      "Getting URL: https://stats.bis.org/api/v2/data/dataflow/BIS/WS_NA_SEC_DSS/~/Q.N.US.5Z.S12.S1.N.L.LE.F3.T._Z.USD._T.M.V.N._T\n",
      "Returned 293 rows for United States - Debt sec, held by non-residents, issued by FC, in all markets at all original maturities denominated in all currencies at market value stocks\n"
     ]
    },
    {
     "data": {
      "application/vnd.plotly.v1+json": {
       "config": {
        "plotlyServerURL": "https://plot.ly"
       },
       "data": [
        {
         "mode": "lines+markers",
         "name": "test",
         "type": "scatter",
         "x": [
          "2000-04-01T00:00:00.000000000",
          "2000-07-01T00:00:00.000000000",
          "2000-10-01T00:00:00.000000000",
          "2001-01-01T00:00:00.000000000",
          "2001-04-01T00:00:00.000000000",
          "2001-07-01T00:00:00.000000000",
          "2001-10-01T00:00:00.000000000",
          "2002-01-01T00:00:00.000000000",
          "2002-04-01T00:00:00.000000000",
          "2002-07-01T00:00:00.000000000",
          "2002-10-01T00:00:00.000000000",
          "2003-01-01T00:00:00.000000000",
          "2003-04-01T00:00:00.000000000",
          "2003-07-01T00:00:00.000000000",
          "2003-10-01T00:00:00.000000000",
          "2004-01-01T00:00:00.000000000",
          "2004-04-01T00:00:00.000000000",
          "2004-07-01T00:00:00.000000000",
          "2004-10-01T00:00:00.000000000",
          "2005-01-01T00:00:00.000000000",
          "2005-04-01T00:00:00.000000000",
          "2005-07-01T00:00:00.000000000",
          "2005-10-01T00:00:00.000000000",
          "2006-01-01T00:00:00.000000000",
          "2006-04-01T00:00:00.000000000",
          "2006-07-01T00:00:00.000000000",
          "2006-10-01T00:00:00.000000000",
          "2007-01-01T00:00:00.000000000",
          "2007-04-01T00:00:00.000000000",
          "2007-07-01T00:00:00.000000000",
          "2007-10-01T00:00:00.000000000",
          "2008-01-01T00:00:00.000000000",
          "2008-04-01T00:00:00.000000000",
          "2008-07-01T00:00:00.000000000",
          "2008-10-01T00:00:00.000000000",
          "2009-01-01T00:00:00.000000000",
          "2009-04-01T00:00:00.000000000",
          "2009-07-01T00:00:00.000000000",
          "2009-10-01T00:00:00.000000000",
          "2010-01-01T00:00:00.000000000",
          "2010-04-01T00:00:00.000000000",
          "2010-07-01T00:00:00.000000000",
          "2010-10-01T00:00:00.000000000",
          "2011-01-01T00:00:00.000000000"
         ],
         "y": {
          "bdata": "AAAAAAAA+H8AAAAAAAD4fwAAAAAAAPh/JDEIrBx6Z0D4U+Olm4BmQBAtsp3vR2RAkML1KFzTaUAoMQisHDZoQMCfGi/dEHZAdr6fGi+jdkB46SYxCDp0QFxkO99Py3RAYDvfT41zZ0DgpZvEIDRjQPB8PzVe+mVA8Chcj8I5aEAo2/l+atBpQPgoXI/CE3JA1HjpJjEqekCgGi/dJOZ5QCzdJAaBa35AXGQ730+bfkDM91PjpaV1QJgYBFYOvXdA+Chcj8Kfe0Ag2/l+agaCQKAaL90k3IVA4KWbxCAPikDQItv5fmiKQEw3iUFgkoVA7CYxCKyxgkBoO99PjSV6QND3U+OlP2NAGARWDi0yccCs8dJNYhqCwNijcD0KwInAxPUoXI9LiMCYmZmZmRF8wCCwcmiR9XXAAIGVQ4vQa8Dwp8ZLNyVtwPBT46WbJGPAANNNYhDYSMAARrbz/VQRQA==",
          "dtype": "f8"
         }
        }
       ],
       "layout": {
        "height": 600,
        "hovermode": "x unified",
        "legend": {
         "font": {
          "size": 8
         },
         "orientation": "h",
         "title": {
          "text": "Series"
         },
         "x": 0.5,
         "xanchor": "center",
         "y": -0.2,
         "yanchor": "top"
        },
        "shapes": [
         {
          "fillcolor": "black",
          "layer": "below",
          "line": {
           "width": 0
          },
          "opacity": 0.2,
          "type": "rect",
          "x0": "2007-01-01T00:00:00",
          "x1": "2008-12-31T00:00:00",
          "xref": "x",
          "y0": 0,
          "y1": 1,
          "yref": "paper"
         }
        ],
        "template": {
         "data": {
          "bar": [
           {
            "error_x": {
             "color": "#2a3f5f"
            },
            "error_y": {
             "color": "#2a3f5f"
            },
            "marker": {
             "line": {
              "color": "#E5ECF6",
              "width": 0.5
             },
             "pattern": {
              "fillmode": "overlay",
              "size": 10,
              "solidity": 0.2
             }
            },
            "type": "bar"
           }
          ],
          "barpolar": [
           {
            "marker": {
             "line": {
              "color": "#E5ECF6",
              "width": 0.5
             },
             "pattern": {
              "fillmode": "overlay",
              "size": 10,
              "solidity": 0.2
             }
            },
            "type": "barpolar"
           }
          ],
          "carpet": [
           {
            "aaxis": {
             "endlinecolor": "#2a3f5f",
             "gridcolor": "white",
             "linecolor": "white",
             "minorgridcolor": "white",
             "startlinecolor": "#2a3f5f"
            },
            "baxis": {
             "endlinecolor": "#2a3f5f",
             "gridcolor": "white",
             "linecolor": "white",
             "minorgridcolor": "white",
             "startlinecolor": "#2a3f5f"
            },
            "type": "carpet"
           }
          ],
          "choropleth": [
           {
            "colorbar": {
             "outlinewidth": 0,
             "ticks": ""
            },
            "type": "choropleth"
           }
          ],
          "contour": [
           {
            "colorbar": {
             "outlinewidth": 0,
             "ticks": ""
            },
            "colorscale": [
             [
              0,
              "#0d0887"
             ],
             [
              0.1111111111111111,
              "#46039f"
             ],
             [
              0.2222222222222222,
              "#7201a8"
             ],
             [
              0.3333333333333333,
              "#9c179e"
             ],
             [
              0.4444444444444444,
              "#bd3786"
             ],
             [
              0.5555555555555556,
              "#d8576b"
             ],
             [
              0.6666666666666666,
              "#ed7953"
             ],
             [
              0.7777777777777778,
              "#fb9f3a"
             ],
             [
              0.8888888888888888,
              "#fdca26"
             ],
             [
              1,
              "#f0f921"
             ]
            ],
            "type": "contour"
           }
          ],
          "contourcarpet": [
           {
            "colorbar": {
             "outlinewidth": 0,
             "ticks": ""
            },
            "type": "contourcarpet"
           }
          ],
          "heatmap": [
           {
            "colorbar": {
             "outlinewidth": 0,
             "ticks": ""
            },
            "colorscale": [
             [
              0,
              "#0d0887"
             ],
             [
              0.1111111111111111,
              "#46039f"
             ],
             [
              0.2222222222222222,
              "#7201a8"
             ],
             [
              0.3333333333333333,
              "#9c179e"
             ],
             [
              0.4444444444444444,
              "#bd3786"
             ],
             [
              0.5555555555555556,
              "#d8576b"
             ],
             [
              0.6666666666666666,
              "#ed7953"
             ],
             [
              0.7777777777777778,
              "#fb9f3a"
             ],
             [
              0.8888888888888888,
              "#fdca26"
             ],
             [
              1,
              "#f0f921"
             ]
            ],
            "type": "heatmap"
           }
          ],
          "histogram": [
           {
            "marker": {
             "pattern": {
              "fillmode": "overlay",
              "size": 10,
              "solidity": 0.2
             }
            },
            "type": "histogram"
           }
          ],
          "histogram2d": [
           {
            "colorbar": {
             "outlinewidth": 0,
             "ticks": ""
            },
            "colorscale": [
             [
              0,
              "#0d0887"
             ],
             [
              0.1111111111111111,
              "#46039f"
             ],
             [
              0.2222222222222222,
              "#7201a8"
             ],
             [
              0.3333333333333333,
              "#9c179e"
             ],
             [
              0.4444444444444444,
              "#bd3786"
             ],
             [
              0.5555555555555556,
              "#d8576b"
             ],
             [
              0.6666666666666666,
              "#ed7953"
             ],
             [
              0.7777777777777778,
              "#fb9f3a"
             ],
             [
              0.8888888888888888,
              "#fdca26"
             ],
             [
              1,
              "#f0f921"
             ]
            ],
            "type": "histogram2d"
           }
          ],
          "histogram2dcontour": [
           {
            "colorbar": {
             "outlinewidth": 0,
             "ticks": ""
            },
            "colorscale": [
             [
              0,
              "#0d0887"
             ],
             [
              0.1111111111111111,
              "#46039f"
             ],
             [
              0.2222222222222222,
              "#7201a8"
             ],
             [
              0.3333333333333333,
              "#9c179e"
             ],
             [
              0.4444444444444444,
              "#bd3786"
             ],
             [
              0.5555555555555556,
              "#d8576b"
             ],
             [
              0.6666666666666666,
              "#ed7953"
             ],
             [
              0.7777777777777778,
              "#fb9f3a"
             ],
             [
              0.8888888888888888,
              "#fdca26"
             ],
             [
              1,
              "#f0f921"
             ]
            ],
            "type": "histogram2dcontour"
           }
          ],
          "mesh3d": [
           {
            "colorbar": {
             "outlinewidth": 0,
             "ticks": ""
            },
            "type": "mesh3d"
           }
          ],
          "parcoords": [
           {
            "line": {
             "colorbar": {
              "outlinewidth": 0,
              "ticks": ""
             }
            },
            "type": "parcoords"
           }
          ],
          "pie": [
           {
            "automargin": true,
            "type": "pie"
           }
          ],
          "scatter": [
           {
            "fillpattern": {
             "fillmode": "overlay",
             "size": 10,
             "solidity": 0.2
            },
            "type": "scatter"
           }
          ],
          "scatter3d": [
           {
            "line": {
             "colorbar": {
              "outlinewidth": 0,
              "ticks": ""
             }
            },
            "marker": {
             "colorbar": {
              "outlinewidth": 0,
              "ticks": ""
             }
            },
            "type": "scatter3d"
           }
          ],
          "scattercarpet": [
           {
            "marker": {
             "colorbar": {
              "outlinewidth": 0,
              "ticks": ""
             }
            },
            "type": "scattercarpet"
           }
          ],
          "scattergeo": [
           {
            "marker": {
             "colorbar": {
              "outlinewidth": 0,
              "ticks": ""
             }
            },
            "type": "scattergeo"
           }
          ],
          "scattergl": [
           {
            "marker": {
             "colorbar": {
              "outlinewidth": 0,
              "ticks": ""
             }
            },
            "type": "scattergl"
           }
          ],
          "scattermap": [
           {
            "marker": {
             "colorbar": {
              "outlinewidth": 0,
              "ticks": ""
             }
            },
            "type": "scattermap"
           }
          ],
          "scattermapbox": [
           {
            "marker": {
             "colorbar": {
              "outlinewidth": 0,
              "ticks": ""
             }
            },
            "type": "scattermapbox"
           }
          ],
          "scatterpolar": [
           {
            "marker": {
             "colorbar": {
              "outlinewidth": 0,
              "ticks": ""
             }
            },
            "type": "scatterpolar"
           }
          ],
          "scatterpolargl": [
           {
            "marker": {
             "colorbar": {
              "outlinewidth": 0,
              "ticks": ""
             }
            },
            "type": "scatterpolargl"
           }
          ],
          "scatterternary": [
           {
            "marker": {
             "colorbar": {
              "outlinewidth": 0,
              "ticks": ""
             }
            },
            "type": "scatterternary"
           }
          ],
          "surface": [
           {
            "colorbar": {
             "outlinewidth": 0,
             "ticks": ""
            },
            "colorscale": [
             [
              0,
              "#0d0887"
             ],
             [
              0.1111111111111111,
              "#46039f"
             ],
             [
              0.2222222222222222,
              "#7201a8"
             ],
             [
              0.3333333333333333,
              "#9c179e"
             ],
             [
              0.4444444444444444,
              "#bd3786"
             ],
             [
              0.5555555555555556,
              "#d8576b"
             ],
             [
              0.6666666666666666,
              "#ed7953"
             ],
             [
              0.7777777777777778,
              "#fb9f3a"
             ],
             [
              0.8888888888888888,
              "#fdca26"
             ],
             [
              1,
              "#f0f921"
             ]
            ],
            "type": "surface"
           }
          ],
          "table": [
           {
            "cells": {
             "fill": {
              "color": "#EBF0F8"
             },
             "line": {
              "color": "white"
             }
            },
            "header": {
             "fill": {
              "color": "#C8D4E3"
             },
             "line": {
              "color": "white"
             }
            },
            "type": "table"
           }
          ]
         },
         "layout": {
          "annotationdefaults": {
           "arrowcolor": "#2a3f5f",
           "arrowhead": 0,
           "arrowwidth": 1
          },
          "autotypenumbers": "strict",
          "coloraxis": {
           "colorbar": {
            "outlinewidth": 0,
            "ticks": ""
           }
          },
          "colorscale": {
           "diverging": [
            [
             0,
             "#8e0152"
            ],
            [
             0.1,
             "#c51b7d"
            ],
            [
             0.2,
             "#de77ae"
            ],
            [
             0.3,
             "#f1b6da"
            ],
            [
             0.4,
             "#fde0ef"
            ],
            [
             0.5,
             "#f7f7f7"
            ],
            [
             0.6,
             "#e6f5d0"
            ],
            [
             0.7,
             "#b8e186"
            ],
            [
             0.8,
             "#7fbc41"
            ],
            [
             0.9,
             "#4d9221"
            ],
            [
             1,
             "#276419"
            ]
           ],
           "sequential": [
            [
             0,
             "#0d0887"
            ],
            [
             0.1111111111111111,
             "#46039f"
            ],
            [
             0.2222222222222222,
             "#7201a8"
            ],
            [
             0.3333333333333333,
             "#9c179e"
            ],
            [
             0.4444444444444444,
             "#bd3786"
            ],
            [
             0.5555555555555556,
             "#d8576b"
            ],
            [
             0.6666666666666666,
             "#ed7953"
            ],
            [
             0.7777777777777778,
             "#fb9f3a"
            ],
            [
             0.8888888888888888,
             "#fdca26"
            ],
            [
             1,
             "#f0f921"
            ]
           ],
           "sequentialminus": [
            [
             0,
             "#0d0887"
            ],
            [
             0.1111111111111111,
             "#46039f"
            ],
            [
             0.2222222222222222,
             "#7201a8"
            ],
            [
             0.3333333333333333,
             "#9c179e"
            ],
            [
             0.4444444444444444,
             "#bd3786"
            ],
            [
             0.5555555555555556,
             "#d8576b"
            ],
            [
             0.6666666666666666,
             "#ed7953"
            ],
            [
             0.7777777777777778,
             "#fb9f3a"
            ],
            [
             0.8888888888888888,
             "#fdca26"
            ],
            [
             1,
             "#f0f921"
            ]
           ]
          },
          "colorway": [
           "#636efa",
           "#EF553B",
           "#00cc96",
           "#ab63fa",
           "#FFA15A",
           "#19d3f3",
           "#FF6692",
           "#B6E880",
           "#FF97FF",
           "#FECB52"
          ],
          "font": {
           "color": "#2a3f5f"
          },
          "geo": {
           "bgcolor": "white",
           "lakecolor": "white",
           "landcolor": "#E5ECF6",
           "showlakes": true,
           "showland": true,
           "subunitcolor": "white"
          },
          "hoverlabel": {
           "align": "left"
          },
          "hovermode": "closest",
          "mapbox": {
           "style": "light"
          },
          "paper_bgcolor": "white",
          "plot_bgcolor": "#E5ECF6",
          "polar": {
           "angularaxis": {
            "gridcolor": "white",
            "linecolor": "white",
            "ticks": ""
           },
           "bgcolor": "#E5ECF6",
           "radialaxis": {
            "gridcolor": "white",
            "linecolor": "white",
            "ticks": ""
           }
          },
          "scene": {
           "xaxis": {
            "backgroundcolor": "#E5ECF6",
            "gridcolor": "white",
            "gridwidth": 2,
            "linecolor": "white",
            "showbackground": true,
            "ticks": "",
            "zerolinecolor": "white"
           },
           "yaxis": {
            "backgroundcolor": "#E5ECF6",
            "gridcolor": "white",
            "gridwidth": 2,
            "linecolor": "white",
            "showbackground": true,
            "ticks": "",
            "zerolinecolor": "white"
           },
           "zaxis": {
            "backgroundcolor": "#E5ECF6",
            "gridcolor": "white",
            "gridwidth": 2,
            "linecolor": "white",
            "showbackground": true,
            "ticks": "",
            "zerolinecolor": "white"
           }
          },
          "shapedefaults": {
           "line": {
            "color": "#2a3f5f"
           }
          },
          "ternary": {
           "aaxis": {
            "gridcolor": "white",
            "linecolor": "white",
            "ticks": ""
           },
           "baxis": {
            "gridcolor": "white",
            "linecolor": "white",
            "ticks": ""
           },
           "bgcolor": "#E5ECF6",
           "caxis": {
            "gridcolor": "white",
            "linecolor": "white",
            "ticks": ""
           }
          },
          "title": {
           "x": 0.05
          },
          "xaxis": {
           "automargin": true,
           "gridcolor": "white",
           "linecolor": "white",
           "ticks": "",
           "title": {
            "standoff": 15
           },
           "zerolinecolor": "white",
           "zerolinewidth": 2
          },
          "yaxis": {
           "automargin": true,
           "gridcolor": "white",
           "linecolor": "white",
           "ticks": "",
           "title": {
            "standoff": 15
           },
           "zerolinecolor": "white",
           "zerolinewidth": 2
          }
         }
        },
        "title": {
         "font": {
          "size": 12
         },
         "text": "U.S. - Debt sec, held by non-residents, issued by FC, in all markets at all original maturities denominated in all currencies at market value stocks",
         "x": 0.5,
         "xanchor": "center"
        },
        "width": 1000,
        "xaxis": {
         "title": {
          "text": "Date"
         }
        },
        "yaxis": {
         "autorange": true,
         "tickformat": ".0f",
         "title": {
          "text": "USD (millions)"
         }
        }
       }
      }
     },
     "metadata": {},
     "output_type": "display_data"
    }
   ],
   "source": [
    "## Figure 4 - Contrast this with Financial Corporations, which got dumped\n",
    "\n",
    "\n",
    "\n",
    "df['Date'] = pd.PeriodIndex(df['Date'], freq='Q')\n",
    "start = Period('2000-Q1', freq='Q')\n",
    "end = Period('2011-Q1', freq='Q')\n",
    "df = df[(df['Date'] >= start) & (df['Date'] <= end)]\n",
    "\n",
    "df['Value'] = to_numeric(df['Value']).diff()\n",
    "df['Trailing_4Q_Sum'] = df['Value'].rolling(window=4).sum()\n",
    "\n",
    "plot_figure_trailing(df)\n"
   ]
  },
  {
   "cell_type": "code",
   "execution_count": 52,
   "id": "be1b7a05",
   "metadata": {},
   "outputs": [
    {
     "name": "stdout",
     "output_type": "stream",
     "text": [
      "Getting URL: https://stats.bis.org/api/v2/data/dataflow/BIS/WS_NA_SEC_DSS/~/Q.N.US.5Z.S1.S1.N.L.LE.F3.S._Z.USD._T.M.V.N._T\n",
      "Returned 293 rows for United States - Debt sec, held by non-residents, issued by residents, in all markets at st org mat <= 1y denominated in all currencies at market value stocks\n"
     ]
    },
    {
     "data": {
      "application/vnd.plotly.v1+json": {
       "config": {
        "plotlyServerURL": "https://plot.ly"
       },
       "data": [
        {
         "mode": "lines+markers",
         "name": "test",
         "type": "scatter",
         "x": [
          "2000-04-01T00:00:00.000000000",
          "2000-07-01T00:00:00.000000000",
          "2000-10-01T00:00:00.000000000",
          "2001-01-01T00:00:00.000000000",
          "2001-04-01T00:00:00.000000000",
          "2001-07-01T00:00:00.000000000",
          "2001-10-01T00:00:00.000000000",
          "2002-01-01T00:00:00.000000000",
          "2002-04-01T00:00:00.000000000",
          "2002-07-01T00:00:00.000000000",
          "2002-10-01T00:00:00.000000000",
          "2003-01-01T00:00:00.000000000",
          "2003-04-01T00:00:00.000000000",
          "2003-07-01T00:00:00.000000000",
          "2003-10-01T00:00:00.000000000",
          "2004-01-01T00:00:00.000000000",
          "2004-04-01T00:00:00.000000000",
          "2004-07-01T00:00:00.000000000",
          "2004-10-01T00:00:00.000000000",
          "2005-01-01T00:00:00.000000000",
          "2005-04-01T00:00:00.000000000",
          "2005-07-01T00:00:00.000000000",
          "2005-10-01T00:00:00.000000000",
          "2006-01-01T00:00:00.000000000",
          "2006-04-01T00:00:00.000000000",
          "2006-07-01T00:00:00.000000000",
          "2006-10-01T00:00:00.000000000",
          "2007-01-01T00:00:00.000000000",
          "2007-04-01T00:00:00.000000000",
          "2007-07-01T00:00:00.000000000",
          "2007-10-01T00:00:00.000000000",
          "2008-01-01T00:00:00.000000000",
          "2008-04-01T00:00:00.000000000",
          "2008-07-01T00:00:00.000000000",
          "2008-10-01T00:00:00.000000000",
          "2009-01-01T00:00:00.000000000",
          "2009-04-01T00:00:00.000000000",
          "2009-07-01T00:00:00.000000000",
          "2009-10-01T00:00:00.000000000",
          "2010-01-01T00:00:00.000000000",
          "2010-04-01T00:00:00.000000000",
          "2010-07-01T00:00:00.000000000",
          "2010-10-01T00:00:00.000000000",
          "2011-01-01T00:00:00.000000000"
         ],
         "y": {
          "bdata": "AAAAAAAA+H8AAAAAAAD4fwAAAAAAAPh/wCLb+X5qLcAAJzEIrBwfwLAehetR+DJAuJ8aL91EQUDgehSuR2FMQEgMAiuH5lhAcOf7qfEyWEBg5dAi27FRQOTQItv5tlBAYI/C9SisQ0DQ91PjpRswQAB/arx0kzpAOF66SQxCS0B4FK5H4WpNQHgUrkfhylFAOLTIdr6vQkCAO99PjZccwJiZmZmZyUTAbBKDwMoJUMA4tMh2vu9DwODSTWIQWCbAsEfhehQOMkC4nxov3YRJQLByaJHtjEZAeOkmMQiUUEDQzMzMzIw4QKDEILByCDhA2HjpJjEoT0AIAiuHFiFVQLByaJHtXGBAzvdT46VbakCuR+F6FKh4QBauR+F6InpAVg4tsp1veEB+PzVeujVyQODQItv57kvAFIPAyqF9ZcDo+6nx0l1kwIBqvHSTiGDAoMQgsHKYS8BwPQrXo8BLwA==",
          "dtype": "f8"
         }
        }
       ],
       "layout": {
        "height": 600,
        "hovermode": "x unified",
        "legend": {
         "font": {
          "size": 8
         },
         "orientation": "h",
         "title": {
          "text": "Series"
         },
         "x": 0.5,
         "xanchor": "center",
         "y": -0.2,
         "yanchor": "top"
        },
        "shapes": [
         {
          "fillcolor": "black",
          "layer": "below",
          "line": {
           "width": 0
          },
          "opacity": 0.2,
          "type": "rect",
          "x0": "2007-01-01T00:00:00",
          "x1": "2008-12-31T00:00:00",
          "xref": "x",
          "y0": 0,
          "y1": 1,
          "yref": "paper"
         }
        ],
        "template": {
         "data": {
          "bar": [
           {
            "error_x": {
             "color": "#2a3f5f"
            },
            "error_y": {
             "color": "#2a3f5f"
            },
            "marker": {
             "line": {
              "color": "#E5ECF6",
              "width": 0.5
             },
             "pattern": {
              "fillmode": "overlay",
              "size": 10,
              "solidity": 0.2
             }
            },
            "type": "bar"
           }
          ],
          "barpolar": [
           {
            "marker": {
             "line": {
              "color": "#E5ECF6",
              "width": 0.5
             },
             "pattern": {
              "fillmode": "overlay",
              "size": 10,
              "solidity": 0.2
             }
            },
            "type": "barpolar"
           }
          ],
          "carpet": [
           {
            "aaxis": {
             "endlinecolor": "#2a3f5f",
             "gridcolor": "white",
             "linecolor": "white",
             "minorgridcolor": "white",
             "startlinecolor": "#2a3f5f"
            },
            "baxis": {
             "endlinecolor": "#2a3f5f",
             "gridcolor": "white",
             "linecolor": "white",
             "minorgridcolor": "white",
             "startlinecolor": "#2a3f5f"
            },
            "type": "carpet"
           }
          ],
          "choropleth": [
           {
            "colorbar": {
             "outlinewidth": 0,
             "ticks": ""
            },
            "type": "choropleth"
           }
          ],
          "contour": [
           {
            "colorbar": {
             "outlinewidth": 0,
             "ticks": ""
            },
            "colorscale": [
             [
              0,
              "#0d0887"
             ],
             [
              0.1111111111111111,
              "#46039f"
             ],
             [
              0.2222222222222222,
              "#7201a8"
             ],
             [
              0.3333333333333333,
              "#9c179e"
             ],
             [
              0.4444444444444444,
              "#bd3786"
             ],
             [
              0.5555555555555556,
              "#d8576b"
             ],
             [
              0.6666666666666666,
              "#ed7953"
             ],
             [
              0.7777777777777778,
              "#fb9f3a"
             ],
             [
              0.8888888888888888,
              "#fdca26"
             ],
             [
              1,
              "#f0f921"
             ]
            ],
            "type": "contour"
           }
          ],
          "contourcarpet": [
           {
            "colorbar": {
             "outlinewidth": 0,
             "ticks": ""
            },
            "type": "contourcarpet"
           }
          ],
          "heatmap": [
           {
            "colorbar": {
             "outlinewidth": 0,
             "ticks": ""
            },
            "colorscale": [
             [
              0,
              "#0d0887"
             ],
             [
              0.1111111111111111,
              "#46039f"
             ],
             [
              0.2222222222222222,
              "#7201a8"
             ],
             [
              0.3333333333333333,
              "#9c179e"
             ],
             [
              0.4444444444444444,
              "#bd3786"
             ],
             [
              0.5555555555555556,
              "#d8576b"
             ],
             [
              0.6666666666666666,
              "#ed7953"
             ],
             [
              0.7777777777777778,
              "#fb9f3a"
             ],
             [
              0.8888888888888888,
              "#fdca26"
             ],
             [
              1,
              "#f0f921"
             ]
            ],
            "type": "heatmap"
           }
          ],
          "histogram": [
           {
            "marker": {
             "pattern": {
              "fillmode": "overlay",
              "size": 10,
              "solidity": 0.2
             }
            },
            "type": "histogram"
           }
          ],
          "histogram2d": [
           {
            "colorbar": {
             "outlinewidth": 0,
             "ticks": ""
            },
            "colorscale": [
             [
              0,
              "#0d0887"
             ],
             [
              0.1111111111111111,
              "#46039f"
             ],
             [
              0.2222222222222222,
              "#7201a8"
             ],
             [
              0.3333333333333333,
              "#9c179e"
             ],
             [
              0.4444444444444444,
              "#bd3786"
             ],
             [
              0.5555555555555556,
              "#d8576b"
             ],
             [
              0.6666666666666666,
              "#ed7953"
             ],
             [
              0.7777777777777778,
              "#fb9f3a"
             ],
             [
              0.8888888888888888,
              "#fdca26"
             ],
             [
              1,
              "#f0f921"
             ]
            ],
            "type": "histogram2d"
           }
          ],
          "histogram2dcontour": [
           {
            "colorbar": {
             "outlinewidth": 0,
             "ticks": ""
            },
            "colorscale": [
             [
              0,
              "#0d0887"
             ],
             [
              0.1111111111111111,
              "#46039f"
             ],
             [
              0.2222222222222222,
              "#7201a8"
             ],
             [
              0.3333333333333333,
              "#9c179e"
             ],
             [
              0.4444444444444444,
              "#bd3786"
             ],
             [
              0.5555555555555556,
              "#d8576b"
             ],
             [
              0.6666666666666666,
              "#ed7953"
             ],
             [
              0.7777777777777778,
              "#fb9f3a"
             ],
             [
              0.8888888888888888,
              "#fdca26"
             ],
             [
              1,
              "#f0f921"
             ]
            ],
            "type": "histogram2dcontour"
           }
          ],
          "mesh3d": [
           {
            "colorbar": {
             "outlinewidth": 0,
             "ticks": ""
            },
            "type": "mesh3d"
           }
          ],
          "parcoords": [
           {
            "line": {
             "colorbar": {
              "outlinewidth": 0,
              "ticks": ""
             }
            },
            "type": "parcoords"
           }
          ],
          "pie": [
           {
            "automargin": true,
            "type": "pie"
           }
          ],
          "scatter": [
           {
            "fillpattern": {
             "fillmode": "overlay",
             "size": 10,
             "solidity": 0.2
            },
            "type": "scatter"
           }
          ],
          "scatter3d": [
           {
            "line": {
             "colorbar": {
              "outlinewidth": 0,
              "ticks": ""
             }
            },
            "marker": {
             "colorbar": {
              "outlinewidth": 0,
              "ticks": ""
             }
            },
            "type": "scatter3d"
           }
          ],
          "scattercarpet": [
           {
            "marker": {
             "colorbar": {
              "outlinewidth": 0,
              "ticks": ""
             }
            },
            "type": "scattercarpet"
           }
          ],
          "scattergeo": [
           {
            "marker": {
             "colorbar": {
              "outlinewidth": 0,
              "ticks": ""
             }
            },
            "type": "scattergeo"
           }
          ],
          "scattergl": [
           {
            "marker": {
             "colorbar": {
              "outlinewidth": 0,
              "ticks": ""
             }
            },
            "type": "scattergl"
           }
          ],
          "scattermap": [
           {
            "marker": {
             "colorbar": {
              "outlinewidth": 0,
              "ticks": ""
             }
            },
            "type": "scattermap"
           }
          ],
          "scattermapbox": [
           {
            "marker": {
             "colorbar": {
              "outlinewidth": 0,
              "ticks": ""
             }
            },
            "type": "scattermapbox"
           }
          ],
          "scatterpolar": [
           {
            "marker": {
             "colorbar": {
              "outlinewidth": 0,
              "ticks": ""
             }
            },
            "type": "scatterpolar"
           }
          ],
          "scatterpolargl": [
           {
            "marker": {
             "colorbar": {
              "outlinewidth": 0,
              "ticks": ""
             }
            },
            "type": "scatterpolargl"
           }
          ],
          "scatterternary": [
           {
            "marker": {
             "colorbar": {
              "outlinewidth": 0,
              "ticks": ""
             }
            },
            "type": "scatterternary"
           }
          ],
          "surface": [
           {
            "colorbar": {
             "outlinewidth": 0,
             "ticks": ""
            },
            "colorscale": [
             [
              0,
              "#0d0887"
             ],
             [
              0.1111111111111111,
              "#46039f"
             ],
             [
              0.2222222222222222,
              "#7201a8"
             ],
             [
              0.3333333333333333,
              "#9c179e"
             ],
             [
              0.4444444444444444,
              "#bd3786"
             ],
             [
              0.5555555555555556,
              "#d8576b"
             ],
             [
              0.6666666666666666,
              "#ed7953"
             ],
             [
              0.7777777777777778,
              "#fb9f3a"
             ],
             [
              0.8888888888888888,
              "#fdca26"
             ],
             [
              1,
              "#f0f921"
             ]
            ],
            "type": "surface"
           }
          ],
          "table": [
           {
            "cells": {
             "fill": {
              "color": "#EBF0F8"
             },
             "line": {
              "color": "white"
             }
            },
            "header": {
             "fill": {
              "color": "#C8D4E3"
             },
             "line": {
              "color": "white"
             }
            },
            "type": "table"
           }
          ]
         },
         "layout": {
          "annotationdefaults": {
           "arrowcolor": "#2a3f5f",
           "arrowhead": 0,
           "arrowwidth": 1
          },
          "autotypenumbers": "strict",
          "coloraxis": {
           "colorbar": {
            "outlinewidth": 0,
            "ticks": ""
           }
          },
          "colorscale": {
           "diverging": [
            [
             0,
             "#8e0152"
            ],
            [
             0.1,
             "#c51b7d"
            ],
            [
             0.2,
             "#de77ae"
            ],
            [
             0.3,
             "#f1b6da"
            ],
            [
             0.4,
             "#fde0ef"
            ],
            [
             0.5,
             "#f7f7f7"
            ],
            [
             0.6,
             "#e6f5d0"
            ],
            [
             0.7,
             "#b8e186"
            ],
            [
             0.8,
             "#7fbc41"
            ],
            [
             0.9,
             "#4d9221"
            ],
            [
             1,
             "#276419"
            ]
           ],
           "sequential": [
            [
             0,
             "#0d0887"
            ],
            [
             0.1111111111111111,
             "#46039f"
            ],
            [
             0.2222222222222222,
             "#7201a8"
            ],
            [
             0.3333333333333333,
             "#9c179e"
            ],
            [
             0.4444444444444444,
             "#bd3786"
            ],
            [
             0.5555555555555556,
             "#d8576b"
            ],
            [
             0.6666666666666666,
             "#ed7953"
            ],
            [
             0.7777777777777778,
             "#fb9f3a"
            ],
            [
             0.8888888888888888,
             "#fdca26"
            ],
            [
             1,
             "#f0f921"
            ]
           ],
           "sequentialminus": [
            [
             0,
             "#0d0887"
            ],
            [
             0.1111111111111111,
             "#46039f"
            ],
            [
             0.2222222222222222,
             "#7201a8"
            ],
            [
             0.3333333333333333,
             "#9c179e"
            ],
            [
             0.4444444444444444,
             "#bd3786"
            ],
            [
             0.5555555555555556,
             "#d8576b"
            ],
            [
             0.6666666666666666,
             "#ed7953"
            ],
            [
             0.7777777777777778,
             "#fb9f3a"
            ],
            [
             0.8888888888888888,
             "#fdca26"
            ],
            [
             1,
             "#f0f921"
            ]
           ]
          },
          "colorway": [
           "#636efa",
           "#EF553B",
           "#00cc96",
           "#ab63fa",
           "#FFA15A",
           "#19d3f3",
           "#FF6692",
           "#B6E880",
           "#FF97FF",
           "#FECB52"
          ],
          "font": {
           "color": "#2a3f5f"
          },
          "geo": {
           "bgcolor": "white",
           "lakecolor": "white",
           "landcolor": "#E5ECF6",
           "showlakes": true,
           "showland": true,
           "subunitcolor": "white"
          },
          "hoverlabel": {
           "align": "left"
          },
          "hovermode": "closest",
          "mapbox": {
           "style": "light"
          },
          "paper_bgcolor": "white",
          "plot_bgcolor": "#E5ECF6",
          "polar": {
           "angularaxis": {
            "gridcolor": "white",
            "linecolor": "white",
            "ticks": ""
           },
           "bgcolor": "#E5ECF6",
           "radialaxis": {
            "gridcolor": "white",
            "linecolor": "white",
            "ticks": ""
           }
          },
          "scene": {
           "xaxis": {
            "backgroundcolor": "#E5ECF6",
            "gridcolor": "white",
            "gridwidth": 2,
            "linecolor": "white",
            "showbackground": true,
            "ticks": "",
            "zerolinecolor": "white"
           },
           "yaxis": {
            "backgroundcolor": "#E5ECF6",
            "gridcolor": "white",
            "gridwidth": 2,
            "linecolor": "white",
            "showbackground": true,
            "ticks": "",
            "zerolinecolor": "white"
           },
           "zaxis": {
            "backgroundcolor": "#E5ECF6",
            "gridcolor": "white",
            "gridwidth": 2,
            "linecolor": "white",
            "showbackground": true,
            "ticks": "",
            "zerolinecolor": "white"
           }
          },
          "shapedefaults": {
           "line": {
            "color": "#2a3f5f"
           }
          },
          "ternary": {
           "aaxis": {
            "gridcolor": "white",
            "linecolor": "white",
            "ticks": ""
           },
           "baxis": {
            "gridcolor": "white",
            "linecolor": "white",
            "ticks": ""
           },
           "bgcolor": "#E5ECF6",
           "caxis": {
            "gridcolor": "white",
            "linecolor": "white",
            "ticks": ""
           }
          },
          "title": {
           "x": 0.05
          },
          "xaxis": {
           "automargin": true,
           "gridcolor": "white",
           "linecolor": "white",
           "ticks": "",
           "title": {
            "standoff": 15
           },
           "zerolinecolor": "white",
           "zerolinewidth": 2
          },
          "yaxis": {
           "automargin": true,
           "gridcolor": "white",
           "linecolor": "white",
           "ticks": "",
           "title": {
            "standoff": 15
           },
           "zerolinecolor": "white",
           "zerolinewidth": 2
          }
         }
        },
        "title": {
         "font": {
          "size": 12
         },
         "text": "U.S. - Debt sec, held by non-residents, issued by residents, in all markets at st org mat <= 1y denominated in all currencies at market value stocks",
         "x": 0.5,
         "xanchor": "center"
        },
        "width": 1000,
        "xaxis": {
         "title": {
          "text": "Date"
         }
        },
        "yaxis": {
         "autorange": true,
         "tickformat": ".0f",
         "title": {
          "text": "USD (millions)"
         }
        }
       }
      }
     },
     "metadata": {},
     "output_type": "display_data"
    }
   ],
   "source": [
    "## Figure 5 - The U.S. dollar didn't strengthen because its a safe haven - it strenghened because foreigners bought short-term U.S. debt securities to cover their short positions in U.S. in the carry\n",
    "\n",
    "df = data.get_debt_securities_data(\n",
    "    freq='Q',\n",
    "    reference_area=enums.Region.US,\n",
    "    counterparty_area=enums.Region.CrossBorder,\n",
    "    reporting_sector=enums.Sector.TotalEconomy,\n",
    "    counterparty_sector=enums.Sector.TotalEconomy,\n",
    "    accounting_entry=enums.AccountingEntry.Liabilities,\n",
    "    transaction_type=enums.TransactionType.Stocks,\n",
    "    instrument=enums.DebtInstrumentType.All,\n",
    "    maturity=enums.Maturity.ShortTermOriginal,\n",
    "    unit_of_measure=enums.UnitOfMeasure.USD,\n",
    "    currency_denomination=enums.CurrencyDenomination.All,\n",
    "    valuation_method=enums.ValuationMethod.MarketValue\n",
    ")\n",
    "\n",
    "\n",
    "df['Date'] = pd.PeriodIndex(df['Date'], freq='Q')\n",
    "start = Period('2000-Q1', freq='Q')\n",
    "end = Period('2011-Q1', freq='Q')\n",
    "df = df[(df['Date'] >= start) & (df['Date'] <= end)]\n",
    "\n",
    "df['Value'] = to_numeric(df['Value']).diff()\n",
    "df['Trailing_4Q_Sum'] = df['Value'].rolling(window=4).sum()\n",
    "\n",
    "plot_figure_trailing(df)\n"
   ]
  },
  {
   "cell_type": "code",
   "execution_count": 48,
   "id": "e96be9a8",
   "metadata": {},
   "outputs": [
    {
     "data": {
      "application/vnd.microsoft.datawrangler.viewer.v0+json": {
       "columns": [
        {
         "name": "index",
         "rawType": "int64",
         "type": "integer"
        },
        {
         "name": "Date",
         "rawType": "datetime64[ns]",
         "type": "datetime"
        },
        {
         "name": "Value",
         "rawType": "object",
         "type": "string"
        },
        {
         "name": "Description",
         "rawType": "object",
         "type": "string"
        }
       ],
       "ref": "c05b1556-27b9-4c34-9c32-90905d7acdd0",
       "rows": [
        [
         "0",
         "1952-01-01 00:00:00",
         "0.281",
         "United States - Debt sec, held by non-residents, issued by residents, in all markets at st org mat <= 1y denominated in all currencies at market value stocks"
        ],
        [
         "1",
         "1952-04-01 00:00:00",
         "0.268",
         "United States - Debt sec, held by non-residents, issued by residents, in all markets at st org mat <= 1y denominated in all currencies at market value stocks"
        ],
        [
         "2",
         "1952-07-01 00:00:00",
         "0.288",
         "United States - Debt sec, held by non-residents, issued by residents, in all markets at st org mat <= 1y denominated in all currencies at market value stocks"
        ],
        [
         "3",
         "1952-10-01 00:00:00",
         "0.309",
         "United States - Debt sec, held by non-residents, issued by residents, in all markets at st org mat <= 1y denominated in all currencies at market value stocks"
        ],
        [
         "4",
         "1953-01-01 00:00:00",
         "0.306",
         "United States - Debt sec, held by non-residents, issued by residents, in all markets at st org mat <= 1y denominated in all currencies at market value stocks"
        ],
        [
         "5",
         "1953-04-01 00:00:00",
         "0.305",
         "United States - Debt sec, held by non-residents, issued by residents, in all markets at st org mat <= 1y denominated in all currencies at market value stocks"
        ],
        [
         "6",
         "1953-07-01 00:00:00",
         "0.356",
         "United States - Debt sec, held by non-residents, issued by residents, in all markets at st org mat <= 1y denominated in all currencies at market value stocks"
        ],
        [
         "7",
         "1953-10-01 00:00:00",
         "0.401",
         "United States - Debt sec, held by non-residents, issued by residents, in all markets at st org mat <= 1y denominated in all currencies at market value stocks"
        ],
        [
         "8",
         "1954-01-01 00:00:00",
         "0.382",
         "United States - Debt sec, held by non-residents, issued by residents, in all markets at st org mat <= 1y denominated in all currencies at market value stocks"
        ],
        [
         "9",
         "1954-04-01 00:00:00",
         "0.369",
         "United States - Debt sec, held by non-residents, issued by residents, in all markets at st org mat <= 1y denominated in all currencies at market value stocks"
        ],
        [
         "10",
         "1954-07-01 00:00:00",
         "0.35",
         "United States - Debt sec, held by non-residents, issued by residents, in all markets at st org mat <= 1y denominated in all currencies at market value stocks"
        ],
        [
         "11",
         "1954-10-01 00:00:00",
         "0.584",
         "United States - Debt sec, held by non-residents, issued by residents, in all markets at st org mat <= 1y denominated in all currencies at market value stocks"
        ],
        [
         "12",
         "1955-01-01 00:00:00",
         "0.567",
         "United States - Debt sec, held by non-residents, issued by residents, in all markets at st org mat <= 1y denominated in all currencies at market value stocks"
        ],
        [
         "13",
         "1955-04-01 00:00:00",
         "0.457",
         "United States - Debt sec, held by non-residents, issued by residents, in all markets at st org mat <= 1y denominated in all currencies at market value stocks"
        ],
        [
         "14",
         "1955-07-01 00:00:00",
         "0.46",
         "United States - Debt sec, held by non-residents, issued by residents, in all markets at st org mat <= 1y denominated in all currencies at market value stocks"
        ],
        [
         "15",
         "1955-10-01 00:00:00",
         "0.439",
         "United States - Debt sec, held by non-residents, issued by residents, in all markets at st org mat <= 1y denominated in all currencies at market value stocks"
        ],
        [
         "16",
         "1956-01-01 00:00:00",
         "0.476",
         "United States - Debt sec, held by non-residents, issued by residents, in all markets at st org mat <= 1y denominated in all currencies at market value stocks"
        ],
        [
         "17",
         "1956-04-01 00:00:00",
         "0.486",
         "United States - Debt sec, held by non-residents, issued by residents, in all markets at st org mat <= 1y denominated in all currencies at market value stocks"
        ],
        [
         "18",
         "1956-07-01 00:00:00",
         "0.579",
         "United States - Debt sec, held by non-residents, issued by residents, in all markets at st org mat <= 1y denominated in all currencies at market value stocks"
        ],
        [
         "19",
         "1956-10-01 00:00:00",
         "0.671",
         "United States - Debt sec, held by non-residents, issued by residents, in all markets at st org mat <= 1y denominated in all currencies at market value stocks"
        ],
        [
         "20",
         "1957-01-01 00:00:00",
         "0.787",
         "United States - Debt sec, held by non-residents, issued by residents, in all markets at st org mat <= 1y denominated in all currencies at market value stocks"
        ],
        [
         "21",
         "1957-04-01 00:00:00",
         "0.773",
         "United States - Debt sec, held by non-residents, issued by residents, in all markets at st org mat <= 1y denominated in all currencies at market value stocks"
        ],
        [
         "22",
         "1957-07-01 00:00:00",
         "0.967",
         "United States - Debt sec, held by non-residents, issued by residents, in all markets at st org mat <= 1y denominated in all currencies at market value stocks"
        ],
        [
         "23",
         "1957-10-01 00:00:00",
         "0.954",
         "United States - Debt sec, held by non-residents, issued by residents, in all markets at st org mat <= 1y denominated in all currencies at market value stocks"
        ],
        [
         "24",
         "1958-01-01 00:00:00",
         "1.067",
         "United States - Debt sec, held by non-residents, issued by residents, in all markets at st org mat <= 1y denominated in all currencies at market value stocks"
        ],
        [
         "25",
         "1958-04-01 00:00:00",
         "0.911",
         "United States - Debt sec, held by non-residents, issued by residents, in all markets at st org mat <= 1y denominated in all currencies at market value stocks"
        ],
        [
         "26",
         "1958-07-01 00:00:00",
         "0.868",
         "United States - Debt sec, held by non-residents, issued by residents, in all markets at st org mat <= 1y denominated in all currencies at market value stocks"
        ],
        [
         "27",
         "1958-10-01 00:00:00",
         "0.843",
         "United States - Debt sec, held by non-residents, issued by residents, in all markets at st org mat <= 1y denominated in all currencies at market value stocks"
        ],
        [
         "28",
         "1959-01-01 00:00:00",
         "0.753",
         "United States - Debt sec, held by non-residents, issued by residents, in all markets at st org mat <= 1y denominated in all currencies at market value stocks"
        ],
        [
         "29",
         "1959-04-01 00:00:00",
         "0.744",
         "United States - Debt sec, held by non-residents, issued by residents, in all markets at st org mat <= 1y denominated in all currencies at market value stocks"
        ],
        [
         "30",
         "1959-07-01 00:00:00",
         "0.729",
         "United States - Debt sec, held by non-residents, issued by residents, in all markets at st org mat <= 1y denominated in all currencies at market value stocks"
        ],
        [
         "31",
         "1959-10-01 00:00:00",
         "0.757",
         "United States - Debt sec, held by non-residents, issued by residents, in all markets at st org mat <= 1y denominated in all currencies at market value stocks"
        ],
        [
         "32",
         "1960-01-01 00:00:00",
         "1.083",
         "United States - Debt sec, held by non-residents, issued by residents, in all markets at st org mat <= 1y denominated in all currencies at market value stocks"
        ],
        [
         "33",
         "1960-04-01 00:00:00",
         "1.041",
         "United States - Debt sec, held by non-residents, issued by residents, in all markets at st org mat <= 1y denominated in all currencies at market value stocks"
        ],
        [
         "34",
         "1960-07-01 00:00:00",
         "1.234",
         "United States - Debt sec, held by non-residents, issued by residents, in all markets at st org mat <= 1y denominated in all currencies at market value stocks"
        ],
        [
         "35",
         "1960-10-01 00:00:00",
         "1.291",
         "United States - Debt sec, held by non-residents, issued by residents, in all markets at st org mat <= 1y denominated in all currencies at market value stocks"
        ],
        [
         "36",
         "1961-01-01 00:00:00",
         "1.343",
         "United States - Debt sec, held by non-residents, issued by residents, in all markets at st org mat <= 1y denominated in all currencies at market value stocks"
        ],
        [
         "37",
         "1961-04-01 00:00:00",
         "1.322",
         "United States - Debt sec, held by non-residents, issued by residents, in all markets at st org mat <= 1y denominated in all currencies at market value stocks"
        ],
        [
         "38",
         "1961-07-01 00:00:00",
         "1.441",
         "United States - Debt sec, held by non-residents, issued by residents, in all markets at st org mat <= 1y denominated in all currencies at market value stocks"
        ],
        [
         "39",
         "1961-10-01 00:00:00",
         "1.36",
         "United States - Debt sec, held by non-residents, issued by residents, in all markets at st org mat <= 1y denominated in all currencies at market value stocks"
        ],
        [
         "40",
         "1962-01-01 00:00:00",
         "1.384",
         "United States - Debt sec, held by non-residents, issued by residents, in all markets at st org mat <= 1y denominated in all currencies at market value stocks"
        ],
        [
         "41",
         "1962-04-01 00:00:00",
         "1.317",
         "United States - Debt sec, held by non-residents, issued by residents, in all markets at st org mat <= 1y denominated in all currencies at market value stocks"
        ],
        [
         "42",
         "1962-07-01 00:00:00",
         "1.293",
         "United States - Debt sec, held by non-residents, issued by residents, in all markets at st org mat <= 1y denominated in all currencies at market value stocks"
        ],
        [
         "43",
         "1962-10-01 00:00:00",
         "1.387",
         "United States - Debt sec, held by non-residents, issued by residents, in all markets at st org mat <= 1y denominated in all currencies at market value stocks"
        ],
        [
         "44",
         "1963-01-01 00:00:00",
         "1.37",
         "United States - Debt sec, held by non-residents, issued by residents, in all markets at st org mat <= 1y denominated in all currencies at market value stocks"
        ],
        [
         "45",
         "1963-04-01 00:00:00",
         "1.427",
         "United States - Debt sec, held by non-residents, issued by residents, in all markets at st org mat <= 1y denominated in all currencies at market value stocks"
        ],
        [
         "46",
         "1963-07-01 00:00:00",
         "1.568",
         "United States - Debt sec, held by non-residents, issued by residents, in all markets at st org mat <= 1y denominated in all currencies at market value stocks"
        ],
        [
         "47",
         "1963-10-01 00:00:00",
         "1.437",
         "United States - Debt sec, held by non-residents, issued by residents, in all markets at st org mat <= 1y denominated in all currencies at market value stocks"
        ],
        [
         "48",
         "1964-01-01 00:00:00",
         "1.582",
         "United States - Debt sec, held by non-residents, issued by residents, in all markets at st org mat <= 1y denominated in all currencies at market value stocks"
        ],
        [
         "49",
         "1964-04-01 00:00:00",
         "1.696",
         "United States - Debt sec, held by non-residents, issued by residents, in all markets at st org mat <= 1y denominated in all currencies at market value stocks"
        ]
       ],
       "shape": {
        "columns": 3,
        "rows": 293
       }
      },
      "text/html": [
       "<div>\n",
       "<style scoped>\n",
       "    .dataframe tbody tr th:only-of-type {\n",
       "        vertical-align: middle;\n",
       "    }\n",
       "\n",
       "    .dataframe tbody tr th {\n",
       "        vertical-align: top;\n",
       "    }\n",
       "\n",
       "    .dataframe thead th {\n",
       "        text-align: right;\n",
       "    }\n",
       "</style>\n",
       "<table border=\"1\" class=\"dataframe\">\n",
       "  <thead>\n",
       "    <tr style=\"text-align: right;\">\n",
       "      <th></th>\n",
       "      <th>Date</th>\n",
       "      <th>Value</th>\n",
       "      <th>Description</th>\n",
       "    </tr>\n",
       "  </thead>\n",
       "  <tbody>\n",
       "    <tr>\n",
       "      <th>0</th>\n",
       "      <td>1952-01-01</td>\n",
       "      <td>0.281</td>\n",
       "      <td>United States - Debt sec, held by non-resident...</td>\n",
       "    </tr>\n",
       "    <tr>\n",
       "      <th>1</th>\n",
       "      <td>1952-04-01</td>\n",
       "      <td>0.268</td>\n",
       "      <td>United States - Debt sec, held by non-resident...</td>\n",
       "    </tr>\n",
       "    <tr>\n",
       "      <th>2</th>\n",
       "      <td>1952-07-01</td>\n",
       "      <td>0.288</td>\n",
       "      <td>United States - Debt sec, held by non-resident...</td>\n",
       "    </tr>\n",
       "    <tr>\n",
       "      <th>3</th>\n",
       "      <td>1952-10-01</td>\n",
       "      <td>0.309</td>\n",
       "      <td>United States - Debt sec, held by non-resident...</td>\n",
       "    </tr>\n",
       "    <tr>\n",
       "      <th>4</th>\n",
       "      <td>1953-01-01</td>\n",
       "      <td>0.306</td>\n",
       "      <td>United States - Debt sec, held by non-resident...</td>\n",
       "    </tr>\n",
       "    <tr>\n",
       "      <th>...</th>\n",
       "      <td>...</td>\n",
       "      <td>...</td>\n",
       "      <td>...</td>\n",
       "    </tr>\n",
       "    <tr>\n",
       "      <th>288</th>\n",
       "      <td>2024-01-01</td>\n",
       "      <td>1208.546</td>\n",
       "      <td>United States - Debt sec, held by non-resident...</td>\n",
       "    </tr>\n",
       "    <tr>\n",
       "      <th>289</th>\n",
       "      <td>2024-04-01</td>\n",
       "      <td>1199.857</td>\n",
       "      <td>United States - Debt sec, held by non-resident...</td>\n",
       "    </tr>\n",
       "    <tr>\n",
       "      <th>290</th>\n",
       "      <td>2024-07-01</td>\n",
       "      <td>1306.022</td>\n",
       "      <td>United States - Debt sec, held by non-resident...</td>\n",
       "    </tr>\n",
       "    <tr>\n",
       "      <th>291</th>\n",
       "      <td>2024-10-01</td>\n",
       "      <td>1338.329</td>\n",
       "      <td>United States - Debt sec, held by non-resident...</td>\n",
       "    </tr>\n",
       "    <tr>\n",
       "      <th>292</th>\n",
       "      <td>2025-01-01</td>\n",
       "      <td>1515.608</td>\n",
       "      <td>United States - Debt sec, held by non-resident...</td>\n",
       "    </tr>\n",
       "  </tbody>\n",
       "</table>\n",
       "<p>293 rows × 3 columns</p>\n",
       "</div>"
      ],
      "text/plain": [
       "          Date     Value                                        Description\n",
       "0   1952-01-01     0.281  United States - Debt sec, held by non-resident...\n",
       "1   1952-04-01     0.268  United States - Debt sec, held by non-resident...\n",
       "2   1952-07-01     0.288  United States - Debt sec, held by non-resident...\n",
       "3   1952-10-01     0.309  United States - Debt sec, held by non-resident...\n",
       "4   1953-01-01     0.306  United States - Debt sec, held by non-resident...\n",
       "..         ...       ...                                                ...\n",
       "288 2024-01-01  1208.546  United States - Debt sec, held by non-resident...\n",
       "289 2024-04-01  1199.857  United States - Debt sec, held by non-resident...\n",
       "290 2024-07-01  1306.022  United States - Debt sec, held by non-resident...\n",
       "291 2024-10-01  1338.329  United States - Debt sec, held by non-resident...\n",
       "292 2025-01-01  1515.608  United States - Debt sec, held by non-resident...\n",
       "\n",
       "[293 rows x 3 columns]"
      ]
     },
     "execution_count": 48,
     "metadata": {},
     "output_type": "execute_result"
    }
   ],
   "source": [
    "df_short_term"
   ]
  },
  {
   "cell_type": "code",
   "execution_count": 44,
   "id": "8b2b7fac",
   "metadata": {},
   "outputs": [
    {
     "name": "stdout",
     "output_type": "stream",
     "text": [
      "Getting URL: https://stats.bis.org/api/v2/data/dataflow/BIS/WS_NA_SEC_DSS/~/Q.N.US.5Z.S1.S1.N.L.LE.F3.L._Z.USD._T.M.V.N._T\n",
      "Returned 293 rows for United States - Debt sec, held by non-residents, issued by residents, in all markets at lt org mat (> 1y or no stated maturity) denominated in all currencies at market value stocks\n"
     ]
    },
    {
     "data": {
      "application/vnd.plotly.v1+json": {
       "config": {
        "plotlyServerURL": "https://plot.ly"
       },
       "data": [
        {
         "mode": "lines+markers",
         "name": "test",
         "type": "scatter",
         "x": [
          "2000-04-01T00:00:00.000000000",
          "2000-07-01T00:00:00.000000000",
          "2000-10-01T00:00:00.000000000",
          "2001-01-01T00:00:00.000000000",
          "2001-04-01T00:00:00.000000000",
          "2001-07-01T00:00:00.000000000",
          "2001-10-01T00:00:00.000000000",
          "2002-01-01T00:00:00.000000000",
          "2002-04-01T00:00:00.000000000",
          "2002-07-01T00:00:00.000000000",
          "2002-10-01T00:00:00.000000000",
          "2003-01-01T00:00:00.000000000",
          "2003-04-01T00:00:00.000000000",
          "2003-07-01T00:00:00.000000000",
          "2003-10-01T00:00:00.000000000",
          "2004-01-01T00:00:00.000000000",
          "2004-04-01T00:00:00.000000000",
          "2004-07-01T00:00:00.000000000",
          "2004-10-01T00:00:00.000000000",
          "2005-01-01T00:00:00.000000000",
          "2005-04-01T00:00:00.000000000",
          "2005-07-01T00:00:00.000000000",
          "2005-10-01T00:00:00.000000000",
          "2006-01-01T00:00:00.000000000",
          "2006-04-01T00:00:00.000000000",
          "2006-07-01T00:00:00.000000000",
          "2006-10-01T00:00:00.000000000",
          "2007-01-01T00:00:00.000000000",
          "2007-04-01T00:00:00.000000000",
          "2007-07-01T00:00:00.000000000",
          "2007-10-01T00:00:00.000000000",
          "2008-01-01T00:00:00.000000000",
          "2008-04-01T00:00:00.000000000",
          "2008-07-01T00:00:00.000000000",
          "2008-10-01T00:00:00.000000000",
          "2009-01-01T00:00:00.000000000",
          "2009-04-01T00:00:00.000000000",
          "2009-07-01T00:00:00.000000000",
          "2009-10-01T00:00:00.000000000",
          "2010-01-01T00:00:00.000000000",
          "2010-04-01T00:00:00.000000000",
          "2010-07-01T00:00:00.000000000",
          "2010-10-01T00:00:00.000000000",
          "2011-01-01T00:00:00.000000000"
         ],
         "y": {
          "bdata": "AAAAAAAA+H8AAAAAAAD4fwAAAAAAAPh/ROF6FK5NckD0p8ZLN2VzQPhT46Wb1HFAsEfhehTedkDAdJMYBMJ0QEhiEFg51HZAaJHtfD9lekCQGARWDoF4QMjMzMzMCHpAmG4Sg8CifUDAdJMYBPp9QKibxCCwAHxACIGVQ4vkgEBcj8L1KAOCQGAQWDm0ooNA0PdT46Ueh0CgcD0K136GQFjjpZvE34VAsBxaZDtTh0AkBoGVQ9OBQNChRbbzO39AMN0kBoFigECQwvUoXIKFQFhkO99PAY5AfD81XjqNkkAUrkfhemGTQFg5tMh2zI9ASIts5/u+jUCQl24Sg6yJQOB6FK5HRYFAgJmZmZkZXEBACKwcWlRhwNChRbbzc37AYA4tsp2HdMCgRbbz/fRjQHCR7Xw/hXFAyHa+nxrEgkDAHoXrUYqEQHDn+6nxFo1AYOXQItvWiUCQwvUoXLGIQA==",
          "dtype": "f8"
         }
        }
       ],
       "layout": {
        "height": 600,
        "hovermode": "x unified",
        "legend": {
         "font": {
          "size": 8
         },
         "orientation": "h",
         "title": {
          "text": "Series"
         },
         "x": 0.5,
         "xanchor": "center",
         "y": -0.2,
         "yanchor": "top"
        },
        "shapes": [
         {
          "fillcolor": "black",
          "layer": "below",
          "line": {
           "width": 0
          },
          "opacity": 0.2,
          "type": "rect",
          "x0": "2007-01-01T00:00:00",
          "x1": "2008-12-31T00:00:00",
          "xref": "x",
          "y0": 0,
          "y1": 1,
          "yref": "paper"
         }
        ],
        "template": {
         "data": {
          "bar": [
           {
            "error_x": {
             "color": "#2a3f5f"
            },
            "error_y": {
             "color": "#2a3f5f"
            },
            "marker": {
             "line": {
              "color": "#E5ECF6",
              "width": 0.5
             },
             "pattern": {
              "fillmode": "overlay",
              "size": 10,
              "solidity": 0.2
             }
            },
            "type": "bar"
           }
          ],
          "barpolar": [
           {
            "marker": {
             "line": {
              "color": "#E5ECF6",
              "width": 0.5
             },
             "pattern": {
              "fillmode": "overlay",
              "size": 10,
              "solidity": 0.2
             }
            },
            "type": "barpolar"
           }
          ],
          "carpet": [
           {
            "aaxis": {
             "endlinecolor": "#2a3f5f",
             "gridcolor": "white",
             "linecolor": "white",
             "minorgridcolor": "white",
             "startlinecolor": "#2a3f5f"
            },
            "baxis": {
             "endlinecolor": "#2a3f5f",
             "gridcolor": "white",
             "linecolor": "white",
             "minorgridcolor": "white",
             "startlinecolor": "#2a3f5f"
            },
            "type": "carpet"
           }
          ],
          "choropleth": [
           {
            "colorbar": {
             "outlinewidth": 0,
             "ticks": ""
            },
            "type": "choropleth"
           }
          ],
          "contour": [
           {
            "colorbar": {
             "outlinewidth": 0,
             "ticks": ""
            },
            "colorscale": [
             [
              0,
              "#0d0887"
             ],
             [
              0.1111111111111111,
              "#46039f"
             ],
             [
              0.2222222222222222,
              "#7201a8"
             ],
             [
              0.3333333333333333,
              "#9c179e"
             ],
             [
              0.4444444444444444,
              "#bd3786"
             ],
             [
              0.5555555555555556,
              "#d8576b"
             ],
             [
              0.6666666666666666,
              "#ed7953"
             ],
             [
              0.7777777777777778,
              "#fb9f3a"
             ],
             [
              0.8888888888888888,
              "#fdca26"
             ],
             [
              1,
              "#f0f921"
             ]
            ],
            "type": "contour"
           }
          ],
          "contourcarpet": [
           {
            "colorbar": {
             "outlinewidth": 0,
             "ticks": ""
            },
            "type": "contourcarpet"
           }
          ],
          "heatmap": [
           {
            "colorbar": {
             "outlinewidth": 0,
             "ticks": ""
            },
            "colorscale": [
             [
              0,
              "#0d0887"
             ],
             [
              0.1111111111111111,
              "#46039f"
             ],
             [
              0.2222222222222222,
              "#7201a8"
             ],
             [
              0.3333333333333333,
              "#9c179e"
             ],
             [
              0.4444444444444444,
              "#bd3786"
             ],
             [
              0.5555555555555556,
              "#d8576b"
             ],
             [
              0.6666666666666666,
              "#ed7953"
             ],
             [
              0.7777777777777778,
              "#fb9f3a"
             ],
             [
              0.8888888888888888,
              "#fdca26"
             ],
             [
              1,
              "#f0f921"
             ]
            ],
            "type": "heatmap"
           }
          ],
          "histogram": [
           {
            "marker": {
             "pattern": {
              "fillmode": "overlay",
              "size": 10,
              "solidity": 0.2
             }
            },
            "type": "histogram"
           }
          ],
          "histogram2d": [
           {
            "colorbar": {
             "outlinewidth": 0,
             "ticks": ""
            },
            "colorscale": [
             [
              0,
              "#0d0887"
             ],
             [
              0.1111111111111111,
              "#46039f"
             ],
             [
              0.2222222222222222,
              "#7201a8"
             ],
             [
              0.3333333333333333,
              "#9c179e"
             ],
             [
              0.4444444444444444,
              "#bd3786"
             ],
             [
              0.5555555555555556,
              "#d8576b"
             ],
             [
              0.6666666666666666,
              "#ed7953"
             ],
             [
              0.7777777777777778,
              "#fb9f3a"
             ],
             [
              0.8888888888888888,
              "#fdca26"
             ],
             [
              1,
              "#f0f921"
             ]
            ],
            "type": "histogram2d"
           }
          ],
          "histogram2dcontour": [
           {
            "colorbar": {
             "outlinewidth": 0,
             "ticks": ""
            },
            "colorscale": [
             [
              0,
              "#0d0887"
             ],
             [
              0.1111111111111111,
              "#46039f"
             ],
             [
              0.2222222222222222,
              "#7201a8"
             ],
             [
              0.3333333333333333,
              "#9c179e"
             ],
             [
              0.4444444444444444,
              "#bd3786"
             ],
             [
              0.5555555555555556,
              "#d8576b"
             ],
             [
              0.6666666666666666,
              "#ed7953"
             ],
             [
              0.7777777777777778,
              "#fb9f3a"
             ],
             [
              0.8888888888888888,
              "#fdca26"
             ],
             [
              1,
              "#f0f921"
             ]
            ],
            "type": "histogram2dcontour"
           }
          ],
          "mesh3d": [
           {
            "colorbar": {
             "outlinewidth": 0,
             "ticks": ""
            },
            "type": "mesh3d"
           }
          ],
          "parcoords": [
           {
            "line": {
             "colorbar": {
              "outlinewidth": 0,
              "ticks": ""
             }
            },
            "type": "parcoords"
           }
          ],
          "pie": [
           {
            "automargin": true,
            "type": "pie"
           }
          ],
          "scatter": [
           {
            "fillpattern": {
             "fillmode": "overlay",
             "size": 10,
             "solidity": 0.2
            },
            "type": "scatter"
           }
          ],
          "scatter3d": [
           {
            "line": {
             "colorbar": {
              "outlinewidth": 0,
              "ticks": ""
             }
            },
            "marker": {
             "colorbar": {
              "outlinewidth": 0,
              "ticks": ""
             }
            },
            "type": "scatter3d"
           }
          ],
          "scattercarpet": [
           {
            "marker": {
             "colorbar": {
              "outlinewidth": 0,
              "ticks": ""
             }
            },
            "type": "scattercarpet"
           }
          ],
          "scattergeo": [
           {
            "marker": {
             "colorbar": {
              "outlinewidth": 0,
              "ticks": ""
             }
            },
            "type": "scattergeo"
           }
          ],
          "scattergl": [
           {
            "marker": {
             "colorbar": {
              "outlinewidth": 0,
              "ticks": ""
             }
            },
            "type": "scattergl"
           }
          ],
          "scattermap": [
           {
            "marker": {
             "colorbar": {
              "outlinewidth": 0,
              "ticks": ""
             }
            },
            "type": "scattermap"
           }
          ],
          "scattermapbox": [
           {
            "marker": {
             "colorbar": {
              "outlinewidth": 0,
              "ticks": ""
             }
            },
            "type": "scattermapbox"
           }
          ],
          "scatterpolar": [
           {
            "marker": {
             "colorbar": {
              "outlinewidth": 0,
              "ticks": ""
             }
            },
            "type": "scatterpolar"
           }
          ],
          "scatterpolargl": [
           {
            "marker": {
             "colorbar": {
              "outlinewidth": 0,
              "ticks": ""
             }
            },
            "type": "scatterpolargl"
           }
          ],
          "scatterternary": [
           {
            "marker": {
             "colorbar": {
              "outlinewidth": 0,
              "ticks": ""
             }
            },
            "type": "scatterternary"
           }
          ],
          "surface": [
           {
            "colorbar": {
             "outlinewidth": 0,
             "ticks": ""
            },
            "colorscale": [
             [
              0,
              "#0d0887"
             ],
             [
              0.1111111111111111,
              "#46039f"
             ],
             [
              0.2222222222222222,
              "#7201a8"
             ],
             [
              0.3333333333333333,
              "#9c179e"
             ],
             [
              0.4444444444444444,
              "#bd3786"
             ],
             [
              0.5555555555555556,
              "#d8576b"
             ],
             [
              0.6666666666666666,
              "#ed7953"
             ],
             [
              0.7777777777777778,
              "#fb9f3a"
             ],
             [
              0.8888888888888888,
              "#fdca26"
             ],
             [
              1,
              "#f0f921"
             ]
            ],
            "type": "surface"
           }
          ],
          "table": [
           {
            "cells": {
             "fill": {
              "color": "#EBF0F8"
             },
             "line": {
              "color": "white"
             }
            },
            "header": {
             "fill": {
              "color": "#C8D4E3"
             },
             "line": {
              "color": "white"
             }
            },
            "type": "table"
           }
          ]
         },
         "layout": {
          "annotationdefaults": {
           "arrowcolor": "#2a3f5f",
           "arrowhead": 0,
           "arrowwidth": 1
          },
          "autotypenumbers": "strict",
          "coloraxis": {
           "colorbar": {
            "outlinewidth": 0,
            "ticks": ""
           }
          },
          "colorscale": {
           "diverging": [
            [
             0,
             "#8e0152"
            ],
            [
             0.1,
             "#c51b7d"
            ],
            [
             0.2,
             "#de77ae"
            ],
            [
             0.3,
             "#f1b6da"
            ],
            [
             0.4,
             "#fde0ef"
            ],
            [
             0.5,
             "#f7f7f7"
            ],
            [
             0.6,
             "#e6f5d0"
            ],
            [
             0.7,
             "#b8e186"
            ],
            [
             0.8,
             "#7fbc41"
            ],
            [
             0.9,
             "#4d9221"
            ],
            [
             1,
             "#276419"
            ]
           ],
           "sequential": [
            [
             0,
             "#0d0887"
            ],
            [
             0.1111111111111111,
             "#46039f"
            ],
            [
             0.2222222222222222,
             "#7201a8"
            ],
            [
             0.3333333333333333,
             "#9c179e"
            ],
            [
             0.4444444444444444,
             "#bd3786"
            ],
            [
             0.5555555555555556,
             "#d8576b"
            ],
            [
             0.6666666666666666,
             "#ed7953"
            ],
            [
             0.7777777777777778,
             "#fb9f3a"
            ],
            [
             0.8888888888888888,
             "#fdca26"
            ],
            [
             1,
             "#f0f921"
            ]
           ],
           "sequentialminus": [
            [
             0,
             "#0d0887"
            ],
            [
             0.1111111111111111,
             "#46039f"
            ],
            [
             0.2222222222222222,
             "#7201a8"
            ],
            [
             0.3333333333333333,
             "#9c179e"
            ],
            [
             0.4444444444444444,
             "#bd3786"
            ],
            [
             0.5555555555555556,
             "#d8576b"
            ],
            [
             0.6666666666666666,
             "#ed7953"
            ],
            [
             0.7777777777777778,
             "#fb9f3a"
            ],
            [
             0.8888888888888888,
             "#fdca26"
            ],
            [
             1,
             "#f0f921"
            ]
           ]
          },
          "colorway": [
           "#636efa",
           "#EF553B",
           "#00cc96",
           "#ab63fa",
           "#FFA15A",
           "#19d3f3",
           "#FF6692",
           "#B6E880",
           "#FF97FF",
           "#FECB52"
          ],
          "font": {
           "color": "#2a3f5f"
          },
          "geo": {
           "bgcolor": "white",
           "lakecolor": "white",
           "landcolor": "#E5ECF6",
           "showlakes": true,
           "showland": true,
           "subunitcolor": "white"
          },
          "hoverlabel": {
           "align": "left"
          },
          "hovermode": "closest",
          "mapbox": {
           "style": "light"
          },
          "paper_bgcolor": "white",
          "plot_bgcolor": "#E5ECF6",
          "polar": {
           "angularaxis": {
            "gridcolor": "white",
            "linecolor": "white",
            "ticks": ""
           },
           "bgcolor": "#E5ECF6",
           "radialaxis": {
            "gridcolor": "white",
            "linecolor": "white",
            "ticks": ""
           }
          },
          "scene": {
           "xaxis": {
            "backgroundcolor": "#E5ECF6",
            "gridcolor": "white",
            "gridwidth": 2,
            "linecolor": "white",
            "showbackground": true,
            "ticks": "",
            "zerolinecolor": "white"
           },
           "yaxis": {
            "backgroundcolor": "#E5ECF6",
            "gridcolor": "white",
            "gridwidth": 2,
            "linecolor": "white",
            "showbackground": true,
            "ticks": "",
            "zerolinecolor": "white"
           },
           "zaxis": {
            "backgroundcolor": "#E5ECF6",
            "gridcolor": "white",
            "gridwidth": 2,
            "linecolor": "white",
            "showbackground": true,
            "ticks": "",
            "zerolinecolor": "white"
           }
          },
          "shapedefaults": {
           "line": {
            "color": "#2a3f5f"
           }
          },
          "ternary": {
           "aaxis": {
            "gridcolor": "white",
            "linecolor": "white",
            "ticks": ""
           },
           "baxis": {
            "gridcolor": "white",
            "linecolor": "white",
            "ticks": ""
           },
           "bgcolor": "#E5ECF6",
           "caxis": {
            "gridcolor": "white",
            "linecolor": "white",
            "ticks": ""
           }
          },
          "title": {
           "x": 0.05
          },
          "xaxis": {
           "automargin": true,
           "gridcolor": "white",
           "linecolor": "white",
           "ticks": "",
           "title": {
            "standoff": 15
           },
           "zerolinecolor": "white",
           "zerolinewidth": 2
          },
          "yaxis": {
           "automargin": true,
           "gridcolor": "white",
           "linecolor": "white",
           "ticks": "",
           "title": {
            "standoff": 15
           },
           "zerolinecolor": "white",
           "zerolinewidth": 2
          }
         }
        },
        "title": {
         "font": {
          "size": 12
         },
         "text": "U.S. - Debt sec, held by non-residents, issued by residents, in all markets at lt org mat (> 1y or no stated maturity) denominated in all currencies at market value stocks",
         "x": 0.5,
         "xanchor": "center"
        },
        "width": 1000,
        "xaxis": {
         "title": {
          "text": "Date"
         }
        },
        "yaxis": {
         "autorange": true,
         "tickformat": ".0f",
         "title": {
          "text": "USD (millions)"
         }
        }
       }
      }
     },
     "metadata": {},
     "output_type": "display_data"
    }
   ],
   "source": [
    "## Figure 6 - The U.S. dollar didn't strengthen because its a safe haven - it strenghened because foreigners bought short-term U.S. debt securities to cover their short positions in U.S. in the carry\n",
    "\n",
    "df = data.get_debt_securities_data(\n",
    "    freq='Q',\n",
    "    reference_area=enums.Region.US,\n",
    "    counterparty_area=enums.Region.CrossBorder,\n",
    "    reporting_sector=enums.Sector.TotalEconomy,\n",
    "    counterparty_sector=enums.Sector.TotalEconomy,\n",
    "    accounting_entry=enums.AccountingEntry.Liabilities,\n",
    "    transaction_type=enums.TransactionType.Stocks,\n",
    "    instrument=enums.DebtInstrumentType.All,\n",
    "    maturity=enums.Maturity.LongTermOriginal,\n",
    "    unit_of_measure=enums.UnitOfMeasure.USD,\n",
    "    currency_denomination=enums.CurrencyDenomination.All,\n",
    "    valuation_method=enums.ValuationMethod.MarketValue\n",
    ")\n",
    "\n",
    "df['Date'] = pd.PeriodIndex(df['Date'], freq='Q')\n",
    "start = Period('2000-Q1', freq='Q')\n",
    "end = Period('2011-Q1', freq='Q')\n",
    "df = df[(df['Date'] >= start) & (df['Date'] <= end)]\n",
    "\n",
    "df['Value'] = to_numeric(df['Value']).diff()\n",
    "df['Trailing_4Q_Sum'] = df['Value'].rolling(window=4).sum()\n",
    "\n",
    "plot_figure_trailing(df)\n"
   ]
  }
 ],
 "metadata": {
  "kernelspec": {
   "display_name": "venv",
   "language": "python",
   "name": "python3"
  },
  "language_info": {
   "codemirror_mode": {
    "name": "ipython",
    "version": 3
   },
   "file_extension": ".py",
   "mimetype": "text/x-python",
   "name": "python",
   "nbconvert_exporter": "python",
   "pygments_lexer": "ipython3",
   "version": "3.12.0"
  }
 },
 "nbformat": 4,
 "nbformat_minor": 5
}
