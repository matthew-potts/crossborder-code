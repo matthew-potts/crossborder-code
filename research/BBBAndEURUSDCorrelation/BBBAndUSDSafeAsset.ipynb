{
 "cells": [
  {
   "cell_type": "markdown",
   "id": "4ab88cfa",
   "metadata": {},
   "source": [
    "#### Has the U.S. Dollar's Position as a Global Safe Asset Diminished in 2025?\n",
    "<small>*23rd October 2025*</small>"
   ]
  },
  {
   "cell_type": "markdown",
   "id": "c67dec3f",
   "metadata": {},
   "source": [
    "Gita Gopinath, until very recently the top economist at the IMF, argues in a [new column in The Economist](https://www.economist.com/by-invitation/2025/10/15/gita-gopinath-on-the-crash-that-could-torch-35trn-of-wealth?utm_source=substack&utm_medium=email) that the 'popping' of the [widely recognised](https://www.ft.com/content/ce8bc257-5f06-4005-bd36-b094a9b91938) bubble in U.S. equity markets might lead to a correction more painful than the 'dotcom' crash a quarter of a century ago.\n",
    "\n",
    "Highlighting in particular the huge wealth losses that foreign investors could incur as a result, Gopinath casts doubt on thinking that the crash might be tempered by U.S. government bonds tendency to appreciate in value during times of turmoil:"
   ]
  },
  {
   "cell_type": "markdown",
   "id": "5b4ec5b2",
   "metadata": {
    "vscode": {
     "languageId": "plaintext"
    }
   },
   "source": [
    "\n",
    "<div style=\"text-align:center\">\n",
    "<em>\"This 'flight to safety' has helped mitigate the impact of lost dollar-denominated wealth on foreign consumption. The greenback’s strength has long provided global insurance, often appreciating even when the crisis originates in America, as investors seek refuge in dollar assets... There are, though, reasons to believe that this dynamic may not hold in the next crisis.\"</em>\n",
    "</div>\n",
    "<br><br>\n",
    "\n",
    "Despite 2025 being a year characterised by multiple 'risk-off' phases in global financial markets, including resulting from the U.S. President's 'Liberation Day' tariffs in April, the value of the U.S. dollar measured against a broad basket of currencies has steadily declined during 2025. The near continuous decline in value was only arrested due to expansionary fiscal policy, namely the July unveiling of the 'Big Beautiful Bill'."
   ]
  },
  {
   "cell_type": "code",
   "execution_count": null,
   "id": "767ebd4c",
   "metadata": {
    "tags": [
     "hide-input"
    ]
   },
   "outputs": [],
   "source": [
    "import getBISy.data as data\n",
    "usd_eer = data.get_effective_exchange_rate_data('US', 'N', 'D', 'B')"
   ]
  },
  {
   "cell_type": "markdown",
   "id": "5ee90d04",
   "metadata": {},
   "source": [
    "![figure1](figure1.png)"
   ]
  },
  {
   "cell_type": "markdown",
   "id": "5b87b4f4",
   "metadata": {
    "vscode": {
     "languageId": "plaintext"
    }
   },
   "source": [
    "Have the departures from orthodoxies in global trade led to established patterns in key relationships in global finance similarly breaking down?\n",
    "\n",
    "One noted 'law' in international finance is [failure of Uncovered Interest Rate Parity](https://www.sciencedirect.com/science/article/pii/0304393284900461) - that is, the tendency of high (low) interest rate currencies to appreciate (depreciate), implying the existence of profits to the carry trade.\n",
    "\n",
    "As noted in the BIS's [latest Quarterly Review](https://www.bis.org/publ/qtrpdf/r_qt2509a.htm#fn4), this observed law - that higher interest rate currencies appreciate - broke down for the USD in April following the Liberation Day tariffs.\n",
    "\n",
    "From the period 2020-2025, there was an positive relationship between the EURUSD exchange rate and the US-DE one-year yield spread, in line with the so-called 'Fama Puzzle'. Since April, however, this relationship has not been as strong."
   ]
  },
  {
   "cell_type": "code",
   "execution_count": null,
   "id": "84c77a3d",
   "metadata": {
    "tags": [
     "hide-input"
    ]
   },
   "outputs": [],
   "source": [
    "import refinitiv.data.eikon as ek\n",
    "import datetime\n",
    "import getBISy.data as data\n",
    "\n",
    "# EUR/USD exchange rate\n",
    "df_EUR = data.get_exchange_rate_data('EUR', 'DE')\n",
    "\n",
    "# DE vs. U.S. one-year government bond yield differential\n",
    "de = ek.get_timeseries([\"EU1YT=RR\"], start_date=\"2000-01-01\", end_date=datetime.datetime.now(), interval='daily', fields=[\"CLOSE\"])\n",
    "us = ek.get_timeseries([\"US1YT=RRPS\"], start_date=\"2000-01-01\", end_date=datetime.datetime.now(), interval='daily', fields=[\"CLOSE\"])\n",
    "df = de.join(us, lsuffix='_EU', rsuffix='_US')\n",
    "df['ir_differential'] = df['CLOSE_US'] - df['CLOSE_EU']\n"
   ]
  },
  {
   "cell_type": "markdown",
   "id": "957a0f20",
   "metadata": {},
   "source": [
    "![figure2](figure2.png)"
   ]
  },
  {
   "cell_type": "markdown",
   "id": "74d7e16b",
   "metadata": {},
   "source": [
    "Moreover, an essential observed characteristic of a global safe asset should be that it exhibits a high degree of correlation with other recognised safe assets. Looking at the correlation of 10Y U.S. Treasury Bonds with two other 'safe-haven' investments, Gold and 10Y Swiss Bunds, as well as the IX 'Fear Index', the relationship does indeed seem to have noticeably weakened this year."
   ]
  },
  {
   "cell_type": "code",
   "execution_count": 5,
   "id": "9089d21e",
   "metadata": {
    "tags": [
     "hide-input"
    ]
   },
   "outputs": [],
   "source": [
    "import pandas as pd\n",
    "import numpy as np\n",
    "\n",
    "# USD  10-year government bonds\n",
    "usd = ek.get_timeseries([\"US10YT=RRPS\"], start_date=\"2000-01-01\", end_date=datetime.datetime.now(), fields=[\"CLOSE\"])\n",
    "\n",
    "# CHF 10-year bunds\n",
    "chf = ek.get_timeseries([\"CH10YT=RR\"], start_date=\"2000-01-01\", end_date=datetime.datetime.now(), fields=[\"CLOSE\"])\n",
    "\n",
    "# Gold price history\n",
    "gold = ek.get_timeseries([\"XAU=\"], start_date=\"2000-01-01\", end_date=datetime.datetime.now(), fields=[\"CLOSE\"])\n",
    "\n",
    "# Merge into consolidated dataframe\n",
    "crm = pd.merge(pd.merge(gold, chf, left_index=True, right_index=True, how='inner'), usd, left_index=True, right_index=True, how='inner').rename(columns={'CLOSE_x': 'Gold Price', 'CLOSE_y': 'CHF_10Y yield', 'CLOSE': 'US10Y yield'})\n",
    "\n",
    "# Convert each relevant column to numeric\n",
    "for c in ['Gold Price', 'CHF_10Y yield', 'US10Y yield']:\n",
    "    crm[c] = pd.to_numeric(crm[c], errors='coerce')\n",
    "\n",
    "# Calculate rolling correlations\n",
    "crm['gold_log_diff'] = np.log(crm['Gold Price']).diff()\n",
    "crm['usd_log_diff']  = np.log(crm['US10Y yield']).diff()\n",
    "crm['chf_log_diff']  = np.log(crm['CHF_10Y yield']).diff()\n",
    "crm['corr_gold_usd_1M'] = crm['gold_log_diff'].rolling(window='30D').corr(crm['usd_log_diff'])\n",
    "crm['corr_chf_usd_1M'] = crm['chf_log_diff'].rolling(window='30D').corr(crm['usd_log_diff'])"
   ]
  },
  {
   "cell_type": "markdown",
   "id": "d26ff54f",
   "metadata": {},
   "source": [
    "![figure3](figure3.png)"
   ]
  },
  {
   "cell_type": "markdown",
   "id": "5aa05c62",
   "metadata": {},
   "source": [
    "                                            \n",
    "Taken at face value, the implication is that U.S. assets can no longer be relied on to offer a cushion against declining asset values amidst a period of global financial crisis, as cautioned by Gopinath.\n",
    "\n",
    "Aside from this however being a somewhat 'back-of-the-envelope' calculation, I would caution the above analysis with two caveats.\n",
    "\n",
    "First, [the role of FX Hedging played a key role](https://www.sciencedirect.com/science/article/pii/0304393284900461) in generating dollar weakness in April and May. As global uncertainty spiked, global investors with dollar exposures bought hedges on an ex post basis, contributing to USD weakness. This has little implication for the dollar's role as a global safe asset.\n",
    "\n",
    "Second, as with any statistic, it's worth being cautious about extrapolating out correlations calculated in a period of relative stability to the potential future scenario of a global financial crisis. A catastrophically sharp correction in U.S. equity markets that spills over to wider financial system would mark a structural break in the dynamics governing it.\n",
    "\n",
    "Finally, foreign capital did not actually flock en masse to the U.S. at the height of the GFC 2007-08 - [something which I've already discussed](https://www.crossbordercode.com/research/U.S.Assets.DuringGFC/U.S.Assets.During.Crisis.html). So there's perhaps no reason to think that the dynamics of a potential crisis would be hugely different from before.\n",
    "\n",
    "What the above does indeed illustrate, however, is how U.S. policy uncertainty can cause noticeable shifts in previously well-founded and established rules in international finance.\n",
    "\n",
    "Until next time,\n",
    "\n",
    "Matt\n"
   ]
  }
 ],
 "metadata": {
  "kernelspec": {
   "display_name": "Python 3",
   "language": "python",
   "name": "python3"
  },
  "language_info": {
   "codemirror_mode": {
    "name": "ipython",
    "version": 3
   },
   "file_extension": ".py",
   "mimetype": "text/x-python",
   "name": "python",
   "nbconvert_exporter": "python",
   "pygments_lexer": "ipython3",
   "version": "3.12.0"
  }
 },
 "nbformat": 4,
 "nbformat_minor": 5
}
